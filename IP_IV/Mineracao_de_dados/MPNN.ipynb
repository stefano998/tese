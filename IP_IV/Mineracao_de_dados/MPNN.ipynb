{
 "cells": [
  {
   "cell_type": "code",
   "execution_count": 73,
   "id": "aeaa34e5",
   "metadata": {
    "colab": {
     "base_uri": "https://localhost:8080/"
    },
    "executionInfo": {
     "elapsed": 2400,
     "status": "ok",
     "timestamp": 1691710985311,
     "user": {
      "displayName": "STEFANO SURACI",
      "userId": "01042017575376796343"
     },
     "user_tz": 180
    },
    "id": "aeaa34e5",
    "outputId": "4c6611eb-b26b-4169-8de7-b17080195e2c"
   },
   "outputs": [
    {
     "name": "stdout",
     "output_type": "stream",
     "text": [
      "Num GPUs Available:  1\n",
      "Executing eagerly: True\n",
      "In Colab? True\n",
      "Drive already mounted at /content/drive; to attempt to forcibly remount, call drive.mount(\"/content/drive\", force_remount=True).\n"
     ]
    }
   ],
   "source": [
    "#partes deste notebook foram adaptadas de: \"https://keras.io/examples/graph/gnn_citations/\"\n",
    "import os\n",
    "import pandas as pd\n",
    "import numpy as np\n",
    "import networkx as nx\n",
    "import matplotlib.pyplot as plt\n",
    "import tensorflow as tf\n",
    "from tensorflow import keras\n",
    "from tensorflow.keras import layers\n",
    "from sklearn.model_selection import train_test_split\n",
    "from sklearn.metrics import accuracy_score\n",
    "from sklearn.decomposition import PCA\n",
    "from sklearn.preprocessing import MinMaxScaler\n",
    "from sklearn.preprocessing import StandardScaler\n",
    "import math\n",
    "from datetime import datetime\n",
    "import time\n",
    "import random\n",
    "print(\"Num GPUs Available: \", len(tf.config.list_physical_devices('GPU')))\n",
    "tf.config.list_physical_devices('GPU')\n",
    "print(\"Executing eagerly:\",tf.executing_eagerly())\n",
    "try:\n",
    "  import google.colab\n",
    "  IN_COLAB = True\n",
    "except:\n",
    "  IN_COLAB = False\n",
    "print(\"In Colab?\",IN_COLAB)\n",
    "if IN_COLAB:\n",
    "    from google.colab import drive\n",
    "    drive.mount('/content/drive')"
   ]
  },
  {
   "cell_type": "code",
   "execution_count": 74,
   "id": "6c87afc2",
   "metadata": {
    "executionInfo": {
     "elapsed": 2,
     "status": "ok",
     "timestamp": 1691710985311,
     "user": {
      "displayName": "STEFANO SURACI",
      "userId": "01042017575376796343"
     },
     "user_tz": 180
    },
    "id": "6c87afc2"
   },
   "outputs": [],
   "source": [
    "seed = 0\n",
    "random.seed(seed)\n",
    "np.random.seed(seed)\n",
    "tf.random.set_seed(seed)\n",
    "initializer = tf.keras.initializers.RandomNormal(mean=0.0, stddev=0.05, seed=seed)\n",
    "np.random.RandomState(seed)\n",
    "tf.compat.v1.set_random_seed(seed)"
   ]
  },
  {
   "cell_type": "code",
   "execution_count": 75,
   "id": "a09edb0a",
   "metadata": {
    "executionInfo": {
     "elapsed": 2,
     "status": "ok",
     "timestamp": 1691710985311,
     "user": {
      "displayName": "STEFANO SURACI",
      "userId": "01042017575376796343"
     },
     "user_tz": 180
    },
    "id": "a09edb0a"
   },
   "outputs": [],
   "source": [
    "#preencher nome da rede geodesica analisada (abaixo os nomes das redes A, B, C, D, E e F, respectivamente)\n",
    "#alias opcoes = {'gemael147','ghi355gps','nive20obs','gnssrbc21','ghiniv255','kleincorr'}\n",
    "alias='gemael147'\n",
    "aux_filename_36_train=\"_0-2outs_3-6s_50000itr_train\"\n",
    "aux_filename_69_train=\"_0-2outs_6-9s_50000itr_train\"\n",
    "aux_filename_36=\"_0out200000_1-2outs_3-6s_50000itr\"\n",
    "aux_filename_69=\"_0out200000_1-2outs_6-9s_50000itr\"\n",
    "aux_filename_915=\"_0-2outs_9-15s_10000itr\"\n",
    "aux_filename_36_3out=\"_0-3outs_3-6s_10000itr\"\n",
    "aux_filename_69_3out=\"_0-3outs_6-9s_10000itr\""
   ]
  },
  {
   "cell_type": "code",
   "execution_count": 76,
   "id": "4029f405",
   "metadata": {
    "executionInfo": {
     "elapsed": 1452,
     "status": "ok",
     "timestamp": 1691710986762,
     "user": {
      "displayName": "STEFANO SURACI",
      "userId": "01042017575376796343"
     },
     "user_tz": 180
    },
    "id": "4029f405"
   },
   "outputs": [],
   "source": [
    "caminho=\"C:/Users/Patricia/Desktop/IP3new/00.treino_rna/\"+alias+\"_\"\n",
    "if IN_COLAB:\n",
    "    caminho=\"/content/drive/MyDrive/IP3new/00.treino_rna/\"+alias+\"_\"\n",
    "A = np.loadtxt(caminho+\"A\")\n",
    "m = A.shape[0]\n",
    "A = np.concatenate((np.zeros((m,1)),A),axis=1)\n",
    "n = A.shape[1]\n",
    "for i in np.arange(m):\n",
    "    if np.sum(A[i,:]) != 0:\n",
    "        A[i,0] = -np.sum(A[i,:])"
   ]
  },
  {
   "cell_type": "code",
   "execution_count": 77,
   "id": "37ae8300",
   "metadata": {
    "executionInfo": {
     "elapsed": 32043,
     "status": "ok",
     "timestamp": 1691711018802,
     "user": {
      "displayName": "STEFANO SURACI",
      "userId": "01042017575376796343"
     },
     "user_tz": 180
    },
    "id": "37ae8300"
   },
   "outputs": [],
   "source": [
    "#importa arquivos para treino e validação do metaclassificador\n",
    "caminho=\"C:/Users/Patricia/Desktop/IP3new/00.treino_rna/\"+alias+\"_\"\n",
    "if IN_COLAB:\n",
    "    caminho=\"/content/drive/MyDrive/IP3new/00.treino_rna/\"+alias+\"_\"\n",
    "m = A.shape[0]\n",
    "qtt_exs = m*150000\n",
    "\n",
    "wAllEL1_pi_sigma_v_36_train = np.loadtxt(caminho+\"wAllEL1_pi_sigma_v\"+aux_filename_36_train).reshape(qtt_exs,1)\n",
    "ypredEL1_pi_sigma_v_36_train = np.loadtxt(caminho+\"ypredEL1_pi_sigma_v\"+aux_filename_36_train).reshape(qtt_exs,1)\n",
    "wAllELInf_pp_sig_obs_36_train = np.loadtxt(caminho+\"wAllELInf_pp_sig_obs\"+aux_filename_36_train).reshape(qtt_exs,1)\n",
    "ypredELInf_pp_sig_obs_36_train = np.loadtxt(caminho+\"ypredELInf_pp_sig_obs\"+aux_filename_36_train).reshape(qtt_exs,1)\n",
    "wAllELInf_pi_sig_obs_36_train = np.loadtxt(caminho+\"wAllELInf_pi_sig_obs\"+aux_filename_36_train).reshape(qtt_exs,1)\n",
    "ypredELInf_pi_sig_obs_36_train = np.loadtxt(caminho+\"ypredELInf_pi_sig_obs\"+aux_filename_36_train).reshape(qtt_exs,1)\n",
    "wAllIDS_pp_36_train = np.loadtxt(caminho+\"wAllIDS_pp\"+aux_filename_36_train).reshape(qtt_exs,1)\n",
    "ypredIDS_pp_36_train = np.loadtxt(caminho+\"ypredIDS_pp\"+aux_filename_36_train).reshape(qtt_exs,1)\n",
    "wAllSLRTMO_pp_36_train = np.loadtxt(caminho+\"wAllSLRTMO_pp\"+aux_filename_36_train).reshape(qtt_exs,1)\n",
    "ypredSLRTMO_pp_36_train = np.loadtxt(caminho+\"ypredSLRTMO_pp\"+aux_filename_36_train).reshape(qtt_exs,1)\n",
    "outs_positions_36_train = np.loadtxt(caminho+\"outs_positions\"+aux_filename_36_train).reshape(qtt_exs,1)\n",
    "\n",
    "wAllEL1_pi_sigma_v_69_train = np.loadtxt(caminho+\"wAllEL1_pi_sigma_v\"+aux_filename_69_train).reshape(qtt_exs,1)\n",
    "ypredEL1_pi_sigma_v_69_train = np.loadtxt(caminho+\"ypredEL1_pi_sigma_v\"+aux_filename_69_train).reshape(qtt_exs,1)\n",
    "wAllELInf_pp_sig_obs_69_train = np.loadtxt(caminho+\"wAllELInf_pp_sig_obs\"+aux_filename_69_train).reshape(qtt_exs,1)\n",
    "ypredELInf_pp_sig_obs_69_train = np.loadtxt(caminho+\"ypredELInf_pp_sig_obs\"+aux_filename_69_train).reshape(qtt_exs,1)\n",
    "wAllELInf_pi_sig_obs_69_train = np.loadtxt(caminho+\"wAllELInf_pi_sig_obs\"+aux_filename_69_train).reshape(qtt_exs,1)\n",
    "ypredELInf_pi_sig_obs_69_train = np.loadtxt(caminho+\"ypredELInf_pi_sig_obs\"+aux_filename_69_train).reshape(qtt_exs,1)\n",
    "wAllIDS_pp_69_train = np.loadtxt(caminho+\"wAllIDS_pp\"+aux_filename_69_train).reshape(qtt_exs,1)\n",
    "ypredIDS_pp_69_train = np.loadtxt(caminho+\"ypredIDS_pp\"+aux_filename_69_train).reshape(qtt_exs,1)\n",
    "wAllSLRTMO_pp_69_train = np.loadtxt(caminho+\"wAllSLRTMO_pp\"+aux_filename_69_train).reshape(qtt_exs,1)\n",
    "ypredSLRTMO_pp_69_train = np.loadtxt(caminho+\"ypredSLRTMO_pp\"+aux_filename_69_train).reshape(qtt_exs,1)\n",
    "outs_positions_69_train = np.loadtxt(caminho+\"outs_positions\"+aux_filename_69_train).reshape(qtt_exs,1)\n",
    "\n",
    "diag_redund_train = np.loadtxt(caminho+\"diag_da_matriz_redund\")\n",
    "diag_redund_train = (np.ones((int(qtt_exs/m),diag_redund_train.shape[0]))*diag_redund_train).reshape(qtt_exs,1)"
   ]
  },
  {
   "cell_type": "code",
   "execution_count": 78,
   "id": "90bf0b51",
   "metadata": {
    "executionInfo": {
     "elapsed": 23051,
     "status": "ok",
     "timestamp": 1691711041842,
     "user": {
      "displayName": "STEFANO SURACI",
      "userId": "01042017575376796343"
     },
     "user_tz": 180
    },
    "id": "90bf0b51"
   },
   "outputs": [],
   "source": [
    "#importa arquivos para matriz Ev\n",
    "caminho=\"C:/Users/Patricia/Desktop/IP3new/\"+alias+\"_\"\n",
    "if IN_COLAB:\n",
    "    caminho=\"/content/drive/MyDrive/IP3new/\"+alias+\"_\"\n",
    "qtt_exs = m*300000\n",
    "\n",
    "wAllEL1_pi_sigma_v_36 = np.loadtxt(caminho+\"wAllEL1_pi_sigma_v\"+aux_filename_36).reshape(qtt_exs,1)\n",
    "ypredEL1_pi_sigma_v_36 = np.loadtxt(caminho+\"ypredEL1_pi_sigma_v\"+aux_filename_36).reshape(qtt_exs,1)\n",
    "wAllELInf_pp_sig_obs_36 = np.loadtxt(caminho+\"wAllELInf_pp_sig_obs\"+aux_filename_36).reshape(qtt_exs,1)\n",
    "ypredELInf_pp_sig_obs_36 = np.loadtxt(caminho+\"ypredELInf_pp_sig_obs\"+aux_filename_36).reshape(qtt_exs,1)\n",
    "wAllELInf_pi_sig_obs_36 = np.loadtxt(caminho+\"wAllELInf_pi_sig_obs\"+aux_filename_36).reshape(qtt_exs,1)\n",
    "ypredELInf_pi_sig_obs_36 = np.loadtxt(caminho+\"ypredELInf_pi_sig_obs\"+aux_filename_36).reshape(qtt_exs,1)\n",
    "wAllIDS_pp_36 = np.loadtxt(caminho+\"wAllIDS_pp\"+aux_filename_36).reshape(qtt_exs,1)\n",
    "ypredIDS_pp_36 = np.loadtxt(caminho+\"ypredIDS_pp\"+aux_filename_36).reshape(qtt_exs,1)\n",
    "wAllSLRTMO_pp_36 = np.loadtxt(caminho+\"wAllSLRTMO_pp\"+aux_filename_36).reshape(qtt_exs,1)\n",
    "ypredSLRTMO_pp_36 = np.loadtxt(caminho+\"ypredSLRTMO_pp\"+aux_filename_36).reshape(qtt_exs,1)\n",
    "outs_positions_36 = np.loadtxt(caminho+\"outs_positions\"+aux_filename_36).reshape(qtt_exs,1)\n",
    "\n",
    "diag_redund = np.loadtxt(caminho+\"diag_da_matriz_redund\")\n",
    "diag_redund = (np.ones((int(qtt_exs/m),diag_redund.shape[0]))*diag_redund).reshape(qtt_exs,1)"
   ]
  },
  {
   "cell_type": "code",
   "execution_count": 79,
   "id": "1856bbbd",
   "metadata": {
    "colab": {
     "base_uri": "https://localhost:8080/"
    },
    "executionInfo": {
     "elapsed": 4,
     "status": "ok",
     "timestamp": 1691711041842,
     "user": {
      "displayName": "STEFANO SURACI",
      "userId": "01042017575376796343"
     },
     "user_tz": 180
    },
    "id": "1856bbbd",
    "outputId": "8f3d4ce9-78ff-43c4-d5e9-aa2164a32135"
   },
   "outputs": [
    {
     "name": "stdout",
     "output_type": "stream",
     "text": [
      "(31, 2)\n",
      "(62, 2)\n"
     ]
    }
   ],
   "source": [
    "#cria grafo aresta-dual a partir de A (matriz de observaçoes/arestas originais)\n",
    "#arestas de G sao vertices em G'\n",
    "#há aresta em G' se havia vertice comum em G\n",
    "#percorre linhas de A, descendo nas colunas se elemento !=0 para capturar arestas com vertice comum em G (arestas em G')\n",
    "#e salva as arestas encontradas\n",
    "list_edges = []\n",
    "for i in np.arange(m-1):\n",
    "    for j in np.arange(n):\n",
    "        if A[i,j] !=0:\n",
    "            for k in np.arange(i+1,m):\n",
    "                if A[k,j] !=0:\n",
    "                    list_edges = np.concatenate((list_edges,np.array([i, k]))) #entram sempre 2 na lista\n",
    "list_edges = np.resize(list_edges,(int(list_edges.shape[0]/2),2)) #logo aqui eh divisivel por 2\n",
    "print(list_edges.shape)\n",
    "#cria arestas agora no sentido contrario para grafo ser bidirecional\n",
    "list_edges_aux = np.zeros(list_edges.shape)\n",
    "list_edges_aux[:,0] = list_edges[:,1]\n",
    "list_edges_aux[:,1] = list_edges[:,0]\n",
    "list_edges = np.concatenate((list_edges,list_edges_aux))\n",
    "print(list_edges.shape)"
   ]
  },
  {
   "cell_type": "code",
   "execution_count": 80,
   "id": "ac58a583",
   "metadata": {
    "colab": {
     "base_uri": "https://localhost:8080/"
    },
    "executionInfo": {
     "elapsed": 1948,
     "status": "ok",
     "timestamp": 1691711043789,
     "user": {
      "displayName": "STEFANO SURACI",
      "userId": "01042017575376796343"
     },
     "user_tz": 180
    },
    "id": "ac58a583",
    "outputId": "fceb25cd-c625-45f2-bcc1-25de404a7ed7"
   },
   "outputs": [
    {
     "name": "stdout",
     "output_type": "stream",
     "text": [
      "(2000000, 11) (2000000, 1)\n"
     ]
    }
   ],
   "source": [
    "#forma conjuntos de treino, validacao e Ev\n",
    "qtd_graphs = 25000 ############  IMP: 25000\n",
    "#qtd de MC cenários de redes geodésicas para cada qtd de outliers e intervalo de magnitude para o treinamento\n",
    "#a qtd de exemplos de treinamento vai ser isso x5xm, pois entra 0, 1 e 2 outs (sendo 1 e 2 outs para 3-6 e 6-9sigma);\n",
    "\n",
    "#######train\n",
    "aux36_train = (ypredIDS_pp_36_train,wAllIDS_pp_36_train,\n",
    "             ypredEL1_pi_sigma_v_36_train,wAllEL1_pi_sigma_v_36_train,\n",
    "             ypredELInf_pi_sig_obs_36_train,wAllELInf_pi_sig_obs_36_train,ypredELInf_pp_sig_obs_36_train,wAllELInf_pp_sig_obs_36_train,\n",
    "             ypredSLRTMO_pp_36_train,wAllSLRTMO_pp_36_train,\n",
    "              diag_redund_train)\n",
    "obs_36_train = np.concatenate(aux36_train,axis=1)\n",
    "label_36_train = outs_positions_36_train\n",
    "\n",
    "aux69_train = (ypredIDS_pp_69_train,wAllIDS_pp_69_train,\n",
    "             ypredEL1_pi_sigma_v_69_train,wAllEL1_pi_sigma_v_69_train,\n",
    "             ypredELInf_pi_sig_obs_69_train,wAllELInf_pi_sig_obs_69_train,ypredELInf_pp_sig_obs_69_train,wAllELInf_pp_sig_obs_69_train,\n",
    "             ypredSLRTMO_pp_69_train,wAllSLRTMO_pp_69_train,\n",
    "              diag_redund_train)\n",
    "obs_69_train = np.concatenate(aux69_train,axis=1)\n",
    "label_69_train = outs_positions_69_train\n",
    "\n",
    "#####Ev\n",
    "aux36 = (ypredIDS_pp_36,wAllIDS_pp_36,\n",
    "             ypredEL1_pi_sigma_v_36,wAllEL1_pi_sigma_v_36,\n",
    "             ypredELInf_pi_sig_obs_36,wAllELInf_pi_sig_obs_36,ypredELInf_pp_sig_obs_36,wAllELInf_pp_sig_obs_36,\n",
    "             ypredSLRTMO_pp_36,wAllSLRTMO_pp_36,\n",
    "             diag_redund)\n",
    "X_test36 = np.concatenate(aux36,axis=1)\n",
    "y_test36 = outs_positions_36\n",
    "\n",
    "aux = int(y_test36.shape[0]/m)\n",
    "y_Ev = np.reshape(y_test36, (aux, m), order='C')\n",
    "X_Ev = np.reshape(X_test36, (aux, 11*m), order='C')\n",
    "aux=sum(np.transpose(y_Ev))==0        ##### era y_test (usando o \"local\" da fç..)\n",
    "X_Ev = X_Ev[aux,:]\n",
    "y_Ev = y_Ev[aux,:]\n",
    "aux = int(X_Ev.shape[0]*m)\n",
    "X_Ev = np.reshape(X_Ev, (aux, 11), order='C')\n",
    "\n",
    "\n",
    "X_train36 = np.concatenate((obs_36_train[0:0+m*qtd_graphs,:],obs_36_train[m*50000:m*50000+m*qtd_graphs,:],\n",
    "                         obs_36_train[m*100000:m*100000+int(m*qtd_graphs),:]),axis=0)\n",
    "y_train36 = np.concatenate((label_36_train[0:0+m*qtd_graphs,:], label_36_train[m*50000:m*50000+m*qtd_graphs,:],\n",
    "                         label_36_train[m*100000:m*100000+int(m*qtd_graphs),:]),axis=0)\n",
    "X_train69 = np.concatenate((obs_69_train[m*50000:m*50000+m*qtd_graphs,:],\n",
    "                         obs_69_train[m*100000:m*100000+int(m*qtd_graphs),:]),axis=0)\n",
    "y_train69 = np.concatenate((label_69_train[m*50000:m*50000+m*qtd_graphs,:],\n",
    "                         label_69_train[m*100000:m*100000+int(m*qtd_graphs),:]),axis=0)\n",
    "\n",
    "X_val36 = np.concatenate((obs_36_train[m*25000:m*50000,:],obs_36_train[m*75000:m*100000,:],obs_36_train[m*125000:m*150000,:]),axis=0)\n",
    "X_val69 = np.concatenate((obs_69_train[m*25000:m*50000,:],obs_69_train[m*75000:m*100000,:],obs_69_train[m*125000:m*150000,:]),axis=0)\n",
    "y_val36 = np.concatenate((label_36_train[m*25000:m*50000,:],label_36_train[m*75000:m*100000,:],label_36_train[m*125000:m*150000,:]),axis=0)\n",
    "y_val69 = np.concatenate((label_69_train[m*25000:m*50000,:],label_69_train[m*75000:m*100000,:],label_69_train[m*125000:m*150000,:]),axis=0)\n",
    "\n",
    "VS = 0.8  ###### parte para treino\n",
    "X_train = np.concatenate((X_train36[0:int(m*qtd_graphs*VS),:],\n",
    "                          X_train36[int(m*qtd_graphs*1):int(m*qtd_graphs*(1+VS)),:],\n",
    "                          X_train36[int(m*qtd_graphs*2):int(m*qtd_graphs*(2+VS)),:],\n",
    "                          X_train69[0:int(m*qtd_graphs*VS),:],\n",
    "                          X_train69[int(m*qtd_graphs*1):int(m*qtd_graphs*(1+VS)),:],\n",
    "                          X_train36[int(m*qtd_graphs*VS):int(m*qtd_graphs*1),:],\n",
    "                          X_train36[int(m*qtd_graphs*(1+VS)):int(m*qtd_graphs*2),:],\n",
    "                          X_train36[int(m*qtd_graphs*(2+VS)):int(m*qtd_graphs*3),:],\n",
    "                          X_train69[int(m*qtd_graphs*VS):int(m*qtd_graphs*1),:],\n",
    "                          X_train69[int(m*qtd_graphs*(1+VS)):int(m*qtd_graphs*2),:]),axis=0)\n",
    "y_train = np.concatenate((y_train36[0:int(m*qtd_graphs*VS),:],\n",
    "                          y_train36[int(m*qtd_graphs*1):int(m*qtd_graphs*(1+VS)),:],\n",
    "                          y_train36[int(m*qtd_graphs*2):int(m*qtd_graphs*(2+VS)),:],\n",
    "                          y_train69[0:int(m*qtd_graphs*VS),:],\n",
    "                          y_train69[int(m*qtd_graphs*1):int(m*qtd_graphs*(1+VS)),:],\n",
    "                          y_train36[int(m*qtd_graphs*VS):int(m*qtd_graphs*1),:],\n",
    "                          y_train36[int(m*qtd_graphs*(1+VS)):int(m*qtd_graphs*2),:],\n",
    "                          y_train36[int(m*qtd_graphs*(2+VS)):int(m*qtd_graphs*3),:],\n",
    "                          y_train69[int(m*qtd_graphs*VS):int(m*qtd_graphs*1),:],\n",
    "                          y_train69[int(m*qtd_graphs*(1+VS)):int(m*qtd_graphs*2),:]),axis=0)\n",
    "\n",
    "scaler_train = MinMaxScaler()\n",
    "X_train = scaler_train.fit_transform(X_train)\n",
    "X_val36 = scaler_train.transform(X_val36)\n",
    "X_val69 = scaler_train.transform(X_val69)\n",
    "X_Ev = scaler_train.transform(X_Ev)\n",
    "\n",
    "X_val = np.concatenate((X_val36, X_val69),axis=0)\n",
    "y_val = np.concatenate((y_val36, y_val69),axis=0).flatten('C')\n",
    "\n",
    "print(X_train.shape,y_train.shape)\n",
    "del (aux36_train,obs_36_train,label_36_train,aux69_train,obs_69_train,label_69_train,\n",
    "     X_train36,X_train69,X_val36, X_val69, aux36, X_test36, y_test36)"
   ]
  },
  {
   "cell_type": "code",
   "execution_count": 81,
   "id": "6d28233d",
   "metadata": {
    "executionInfo": {
     "elapsed": 5,
     "status": "ok",
     "timestamp": 1691711043789,
     "user": {
      "displayName": "STEFANO SURACI",
      "userId": "01042017575376796343"
     },
     "user_tz": 180
    },
    "id": "6d28233d"
   },
   "outputs": [],
   "source": [
    "if 0:\n",
    "    del (ypredIDS_pp_36_train,wAllIDS_pp_36_train,\n",
    "     ypredEL1_pi_sigma_v_36_train,wAllEL1_pi_sigma_v_36_train,\n",
    "     ypredELInf_pi_sig_obs_36_train,wAllELInf_pi_sig_obs_36_train,ypredELInf_pp_sig_obs_36_train,wAllELInf_pp_sig_obs_36_train,\n",
    "     ypredSLRTMO_pp_36_train,wAllSLRTMO_pp_36_train,\n",
    "     diag_redund_train)\n",
    "    del (ypredIDS_pp_69_train,wAllIDS_pp_69_train,\n",
    "     ypredEL1_pi_sigma_v_69_train,wAllEL1_pi_sigma_v_69_train,\n",
    "     ypredELInf_pi_sig_obs_69_train,wAllELInf_pi_sig_obs_69_train,ypredELInf_pp_sig_obs_69_train,wAllELInf_pp_sig_obs_69_train,\n",
    "     ypredSLRTMO_pp_69_train,wAllSLRTMO_pp_69_train)\n",
    "    del (ypredIDS_pp_36,wAllIDS_pp_36,\n",
    "     ypredEL1_pi_sigma_v_36,wAllEL1_pi_sigma_v_36,\n",
    "     ypredELInf_pi_sig_obs_36,wAllELInf_pi_sig_obs_36,ypredELInf_pp_sig_obs_36,wAllELInf_pp_sig_obs_36,\n",
    "     ypredSLRTMO_pp_36,wAllSLRTMO_pp_36)"
   ]
  },
  {
   "cell_type": "code",
   "execution_count": 82,
   "id": "1b2b21e1",
   "metadata": {
    "colab": {
     "base_uri": "https://localhost:8080/"
    },
    "executionInfo": {
     "elapsed": 1162,
     "status": "ok",
     "timestamp": 1691711044947,
     "user": {
      "displayName": "STEFANO SURACI",
      "userId": "01042017575376796343"
     },
     "user_tz": 180
    },
    "id": "1b2b21e1",
    "outputId": "f310a31e-3c04-4dd8-b35d-62edf23fcb5c"
   },
   "outputs": [
    {
     "name": "stdout",
     "output_type": "stream",
     "text": [
      "(29450000, 2)\n",
      "[[ 0  0  0  0  1  1  2  2  3  3  3  4  5  5  6  6  6  7  8  8  9  9  9 10\n",
      "  11 11 12 12 12 13 14  1  4  1  2  4  2  3  5  5  4  7  7  6  8  8  7 10\n",
      "  10  9 11 11 10 13 13 12 14 14 13 15 15 15]\n",
      " [ 1  4  1  2  4  2  3  5  5  4  7  7  6  8  8  7 10 10  9 11 11 10 13 13\n",
      "  12 14 14 13 15 15 15  0  0  0  0  1  1  2  2  3  3  3  4  5  5  6  6  6\n",
      "   7  8  8  9  9  9 10 11 11 12 12 12 13 14]]\n",
      "29450000 62\n"
     ]
    }
   ],
   "source": [
    "qtd_grafos = int(y_train.shape[0]/m) + 150000 + 200000\n",
    "\n",
    "list_edges_equals = np.vstack([list_edges.astype(int)]*qtd_grafos)\n",
    "\n",
    "aux = np.arange(qtd_grafos)\n",
    "aux = np.resize(aux,(list_edges.shape[0],qtd_grafos)).reshape((qtd_grafos*list_edges.shape[0],1),order='F')\n",
    "\n",
    "list_edges_MC = list_edges_equals + m*aux\n",
    "del (list_edges_equals)\n",
    "print(list_edges_MC.shape)\n",
    "print(list_edges_MC.T[:,0:62])\n",
    "print(qtd_grafos*list_edges.shape[0],list_edges.shape[0])\n",
    "imp = 0"
   ]
  },
  {
   "cell_type": "code",
   "execution_count": 83,
   "id": "68603c42",
   "metadata": {
    "colab": {
     "base_uri": "https://localhost:8080/"
    },
    "executionInfo": {
     "elapsed": 9,
     "status": "ok",
     "timestamp": 1691711044947,
     "user": {
      "displayName": "STEFANO SURACI",
      "userId": "01042017575376796343"
     },
     "user_tz": 180
    },
    "id": "68603c42",
    "outputId": "7aca6dbb-8ca8-4e31-c2f1-777517c62826"
   },
   "outputs": [
    {
     "name": "stdout",
     "output_type": "stream",
     "text": [
      "Edges shape: (2, 7750000)\n",
      "Nodes shape: (2000000, 11)\n"
     ]
    }
   ],
   "source": [
    "############################################## GRAPH\n",
    "# Create an edges array (sparse adjacency matrix) of shape [2, num_edges].\n",
    "edges_train = list_edges_MC[0:-(150000+200000)*list_edges.shape[0]].T\n",
    "# Create an edge weights array of ones.\n",
    "edge_weights = tf.ones(shape=edges_train.shape[1])\n",
    "# Create a node features array of shape [num_nodes, num_features].\n",
    "node_features = X_train\n",
    "\n",
    "# Create graph info tuple with node_features, edges, and edge_weights.\n",
    "graph_info = (node_features, edges_train, edge_weights)\n",
    "\n",
    "print(\"Edges shape:\", edges_train.shape)\n",
    "print(\"Nodes shape:\", node_features.shape)"
   ]
  },
  {
   "cell_type": "code",
   "execution_count": 84,
   "id": "469b4a18",
   "metadata": {
    "colab": {
     "base_uri": "https://localhost:8080/"
    },
    "executionInfo": {
     "elapsed": 7,
     "status": "ok",
     "timestamp": 1691711044947,
     "user": {
      "displayName": "STEFANO SURACI",
      "userId": "01042017575376796343"
     },
     "user_tz": 180
    },
    "id": "469b4a18",
    "outputId": "e68c2a58-6bcf-40f0-dcca-7da81b80ccc3"
   },
   "outputs": [
    {
     "name": "stdout",
     "output_type": "stream",
     "text": [
      "10000\n"
     ]
    }
   ],
   "source": [
    "hidden_units = [8]\n",
    "learning_rate = 0.001\n",
    "dropout_rate = 0.5\n",
    "num_epochs = 100\n",
    "batch_size = int(X_train.shape[0]/200) #int(X_train.shape[0]/50)\n",
    "print(batch_size)"
   ]
  },
  {
   "cell_type": "code",
   "execution_count": 85,
   "id": "9862f17c",
   "metadata": {
    "executionInfo": {
     "elapsed": 5,
     "status": "ok",
     "timestamp": 1691711044948,
     "user": {
      "displayName": "STEFANO SURACI",
      "userId": "01042017575376796343"
     },
     "user_tz": 180
    },
    "id": "9862f17c"
   },
   "outputs": [],
   "source": [
    "def run_experiment(model, x_train, y_train):\n",
    "    # Compile the model.\n",
    "    model.compile(\n",
    "        optimizer=keras.optimizers.Adam(learning_rate),\n",
    "        loss=keras.losses.BinaryCrossentropy(),\n",
    "        metrics=[keras.metrics.BinaryAccuracy(name=\"acc\")],\n",
    "    )\n",
    "    # Create an early stopping callback.\n",
    "    early_stopping = keras.callbacks.EarlyStopping(\n",
    "        monitor=\"val_acc\", patience=10, min_delta=0.0001, restore_best_weights=True)\n",
    "    # Fit the model.\n",
    "    history = model.fit(\n",
    "        x=x_train,\n",
    "        y=y_train,\n",
    "        epochs=num_epochs,\n",
    "        batch_size=batch_size,\n",
    "        validation_split=1-VS,\n",
    "        callbacks=[early_stopping],shuffle=False\n",
    "    )\n",
    "\n",
    "    return history"
   ]
  },
  {
   "cell_type": "code",
   "execution_count": 86,
   "id": "2d257cfa",
   "metadata": {
    "executionInfo": {
     "elapsed": 5,
     "status": "ok",
     "timestamp": 1691711044948,
     "user": {
      "displayName": "STEFANO SURACI",
      "userId": "01042017575376796343"
     },
     "user_tz": 180
    },
    "id": "2d257cfa"
   },
   "outputs": [],
   "source": [
    "def display_learning_curves(history):\n",
    "    fig, (ax1, ax2) = plt.subplots(1, 2, figsize=(15, 5))\n",
    "\n",
    "    #ax1.plot(history.history[\"loss\"])\n",
    "    ax1.plot(history.history[\"val_loss\"])\n",
    "    ax1.legend([\"train\", \"test\"], loc=\"upper right\")\n",
    "    ax1.set_xlabel(\"Epochs\")\n",
    "    ax1.set_ylabel(\"Loss\")\n",
    "\n",
    "    #ax2.plot(history.history[\"acc\"])\n",
    "    ax2.plot(history.history[\"val_acc\"])\n",
    "    ax2.legend([\"train\", \"test\"], loc=\"upper right\")\n",
    "    ax2.set_xlabel(\"Epochs\")\n",
    "    ax2.set_ylabel(\"Accuracy\")\n",
    "    plt.show()"
   ]
  },
  {
   "cell_type": "code",
   "execution_count": 87,
   "id": "8c2c536e",
   "metadata": {
    "executionInfo": {
     "elapsed": 5,
     "status": "ok",
     "timestamp": 1691711044948,
     "user": {
      "displayName": "STEFANO SURACI",
      "userId": "01042017575376796343"
     },
     "user_tz": 180
    },
    "id": "8c2c536e"
   },
   "outputs": [],
   "source": [
    "def create_ffn(hidden_units, dropout_rate, name=None):\n",
    "    fnn_layers = []\n",
    "\n",
    "    for units in hidden_units:\n",
    "        fnn_layers.append(layers.BatchNormalization())\n",
    "        fnn_layers.append(layers.Dense(units, activation=tf.nn.relu,kernel_initializer=initializer,bias_initializer='zeros'))\n",
    "\n",
    "    return keras.Sequential(fnn_layers, name=name)"
   ]
  },
  {
   "cell_type": "code",
   "execution_count": 88,
   "id": "61c9eb1b",
   "metadata": {
    "executionInfo": {
     "elapsed": 5,
     "status": "ok",
     "timestamp": 1691711044948,
     "user": {
      "displayName": "STEFANO SURACI",
      "userId": "01042017575376796343"
     },
     "user_tz": 180
    },
    "id": "61c9eb1b"
   },
   "outputs": [],
   "source": [
    "class GraphConvLayer(layers.Layer):\n",
    "    def __init__(\n",
    "        self,\n",
    "        hidden_units,\n",
    "        dropout_rate=0.5,\n",
    "        aggregation_type=\"mean\",\n",
    "        combination_type=\"concat\",\n",
    "        normalize=True,\n",
    "        *args,\n",
    "        **kwargs,\n",
    "    ):\n",
    "        super(GraphConvLayer, self).__init__(*args, **kwargs)\n",
    "\n",
    "        self.aggregation_type = aggregation_type\n",
    "        self.combination_type = combination_type\n",
    "        self.normalize = normalize\n",
    "\n",
    "        self.ffn_prepare = create_ffn(hidden_units, dropout_rate)\n",
    "        self.update_fn = create_ffn(hidden_units, dropout_rate)\n",
    "\n",
    "    def prepare(self, node_repesentations, weights=None):\n",
    "        # node_repesentations shape is [num_edges, embedding_dim].\n",
    "        messages = self.ffn_prepare(node_repesentations)\n",
    "        if weights is not None:\n",
    "            messages = messages * tf.expand_dims(weights, -1)\n",
    "        return messages\n",
    "\n",
    "    def aggregate(self, node_indices, neighbour_messages):\n",
    "        # node_indices shape is [num_edges].\n",
    "        # neighbour_messages shape: [num_edges, representation_dim].\n",
    "        num_nodes = tf.math.reduce_max(node_indices) + 1\n",
    "        if self.aggregation_type == \"mean\":\n",
    "            aggregated_message = tf.math.unsorted_segment_mean(\n",
    "                neighbour_messages, node_indices, num_segments=num_nodes\n",
    "            )\n",
    "        else:\n",
    "            raise ValueError(f\"Invalid aggregation type: {self.aggregation_type}.\")\n",
    "\n",
    "        return aggregated_message\n",
    "\n",
    "    def update(self, node_repesentations, aggregated_messages):\n",
    "        # node_repesentations shape is [num_nodes, representation_dim].\n",
    "        # aggregated_messages shape is [num_nodes, representation_dim].\n",
    "        if self.combination_type == \"concat\":\n",
    "            # Concatenate the node_repesentations and aggregated_messages.\n",
    "            h = tf.concat([node_repesentations, aggregated_messages], axis=1)\n",
    "        else:\n",
    "            raise ValueError(f\"Invalid combination type: {self.combination_type}.\")\n",
    "\n",
    "        # Apply the processing function.\n",
    "        node_embeddings = self.update_fn(h)\n",
    "\n",
    "        if self.normalize:\n",
    "            node_embeddings = tf.nn.l2_normalize(node_embeddings, axis=-1)\n",
    "        return node_embeddings\n",
    "\n",
    "    def call(self, inputs):\n",
    "        \"\"\"Process the inputs to produce the node_embeddings.\n",
    "\n",
    "        inputs: a tuple of three elements: node_repesentations, edges, edge_weights.\n",
    "        Returns: node_embeddings of shape [num_nodes, representation_dim].\n",
    "        \"\"\"\n",
    "\n",
    "        node_repesentations, edges, edge_weights = inputs\n",
    "        #print(node_repesentations.shape)\n",
    "        # Get node_indices (source) and neighbour_indices (target) from edges.\n",
    "        node_indices, neighbour_indices = edges[0], edges[1]\n",
    "        # neighbour_repesentations shape is [num_edges, representation_dim].\n",
    "        neighbour_repesentations = tf.gather(node_repesentations, neighbour_indices)\n",
    "\n",
    "        # Prepare the messages of the neighbours.\n",
    "        neighbour_messages = self.prepare(neighbour_repesentations, edge_weights)\n",
    "        # Aggregate the neighbour messages.\n",
    "        aggregated_messages = self.aggregate(node_indices, neighbour_messages)\n",
    "        # Update the node embedding with the neighbour messages.\n",
    "        return self.update(node_repesentations, aggregated_messages)"
   ]
  },
  {
   "cell_type": "code",
   "execution_count": 89,
   "id": "9ec21062",
   "metadata": {
    "executionInfo": {
     "elapsed": 5,
     "status": "ok",
     "timestamp": 1691711044948,
     "user": {
      "displayName": "STEFANO SURACI",
      "userId": "01042017575376796343"
     },
     "user_tz": 180
    },
    "id": "9ec21062"
   },
   "outputs": [],
   "source": [
    "class GNNNodeClassifier(tf.keras.Model):\n",
    "    def __init__(\n",
    "        self,\n",
    "        graph_info,\n",
    "        hidden_units,\n",
    "        aggregation_type=\"mean\",\n",
    "        combination_type=\"concat\",\n",
    "        dropout_rate=0.5,\n",
    "        normalize=True,\n",
    "        *args,\n",
    "        **kwargs,\n",
    "    ):\n",
    "        super(GNNNodeClassifier, self).__init__(*args, **kwargs)\n",
    "\n",
    "        # Unpack graph_info to three elements: node_features, edges, and edge_weight.\n",
    "        node_features, edges, edge_weights = graph_info\n",
    "        self.node_features = node_features\n",
    "        self.edges = edges\n",
    "        self.edge_weights = edge_weights\n",
    "        # Set edge_weights to ones if not provided.\n",
    "        if self.edge_weights is None:\n",
    "            self.edge_weights = tf.ones(shape=edges.shape[1])\n",
    "        # Scale edge_weights to sum to 1.\n",
    "        self.edge_weights = self.edge_weights / tf.math.reduce_sum(self.edge_weights)\n",
    "\n",
    "        # Create a process layer.\n",
    "        self.preprocess = create_ffn([8], dropout_rate, name=\"preprocess\")\n",
    "        # Create the first GraphConv layer.\n",
    "        self.conv1 = GraphConvLayer([8], dropout_rate, aggregation_type, combination_type, normalize, name=\"graph_conv1\")\n",
    "        # Create the second GraphConv layer.\n",
    "        #self.conv2 = GraphConvLayer([8], dropout_rate, aggregation_type, combination_type, normalize, name=\"graph_conv2\")\n",
    "        # Create a postprocess layer.\n",
    "        self.postprocess = create_ffn([4], dropout_rate, name=\"postprocess\")\n",
    "        # Create a compute logits layer.\n",
    "        self.compute_logits = layers.Dense(units=1, name=\"logits\", activation='sigmoid') #num_classes\n",
    "\n",
    "    def call(self, input_node_indices): ######################### tirar camadas para acelerar?? preprocess e postprocess?\n",
    "        # Preprocess the node_features to produce node representations.\n",
    "        x = self.preprocess(self.node_features)\n",
    "        #x = self.node_features\n",
    "        # Apply the first graph conv layer.\n",
    "        x1 = self.conv1((x, self.edges, self.edge_weights))\n",
    "        # Skip connection.\n",
    "        x = x1 + x\n",
    "        # Apply the second graph conv layer.\n",
    "        #x2 = self.conv2((x, self.edges, self.edge_weights))\n",
    "        # Skip connection.\n",
    "        #x = x2 + x\n",
    "        # Postprocess node embedding.\n",
    "        x = self.postprocess(x)\n",
    "        # Fetch node embeddings for the input node_indices.\n",
    "        node_embeddings = tf.gather(x, input_node_indices)\n",
    "        # Compute logits\n",
    "        return self.compute_logits(node_embeddings)"
   ]
  },
  {
   "cell_type": "code",
   "execution_count": 90,
   "id": "1e5373b2",
   "metadata": {
    "colab": {
     "base_uri": "https://localhost:8080/"
    },
    "executionInfo": {
     "elapsed": 1271,
     "status": "ok",
     "timestamp": 1691711046215,
     "user": {
      "displayName": "STEFANO SURACI",
      "userId": "01042017575376796343"
     },
     "user_tz": 180
    },
    "id": "1e5373b2",
    "outputId": "061d60ce-6645-4b99-ab3e-3e8b8e11059b"
   },
   "outputs": [
    {
     "name": "stdout",
     "output_type": "stream",
     "text": [
      "GNN output shape: tf.Tensor(\n",
      "[[0.5       ]\n",
      " [0.50015754]\n",
      " [0.5       ]], shape=(3, 1), dtype=float32)\n",
      "Model: \"gnn_model\"\n",
      "_________________________________________________________________\n",
      " Layer (type)                Output Shape              Param #   \n",
      "=================================================================\n",
      " preprocess (Sequential)     (2000000, 8)              140       \n",
      "                                                                 \n",
      " graph_conv1 (GraphConvLayer  multiple                 304       \n",
      " )                                                               \n",
      "                                                                 \n",
      " postprocess (Sequential)    (2000000, 4)              68        \n",
      "                                                                 \n",
      " logits (Dense)              multiple                  5         \n",
      "                                                                 \n",
      "=================================================================\n",
      "Total params: 517\n",
      "Trainable params: 431\n",
      "Non-trainable params: 86\n",
      "_________________________________________________________________\n"
     ]
    }
   ],
   "source": [
    "gnn_model = GNNNodeClassifier(\n",
    "    graph_info=graph_info,\n",
    "    hidden_units=hidden_units,\n",
    "    dropout_rate=dropout_rate,\n",
    "    name=\"gnn_model\",\n",
    ")\n",
    "\n",
    "print(\"GNN output shape:\", gnn_model([1, 10, 11]))\n",
    "\n",
    "gnn_model.summary()"
   ]
  },
  {
   "cell_type": "code",
   "execution_count": 91,
   "id": "589b6342",
   "metadata": {
    "colab": {
     "base_uri": "https://localhost:8080/"
    },
    "executionInfo": {
     "elapsed": 139993,
     "status": "ok",
     "timestamp": 1691711186202,
     "user": {
      "displayName": "STEFANO SURACI",
      "userId": "01042017575376796343"
     },
     "user_tz": 180
    },
    "id": "589b6342",
    "outputId": "c591e760-3b26-4d13-9cf9-a285c4a77b47"
   },
   "outputs": [
    {
     "name": "stdout",
     "output_type": "stream",
     "text": [
      "Epoch 1/100\n",
      "160/160 [==============================] - 48s 135ms/step - loss: 0.4589 - acc: 0.9493 - val_loss: 0.2884 - val_acc: 0.9250\n",
      "Epoch 2/100\n",
      "160/160 [==============================] - 6s 38ms/step - loss: 0.2081 - acc: 0.9521 - val_loss: 0.2026 - val_acc: 0.9529\n",
      "Epoch 3/100\n",
      "160/160 [==============================] - 6s 38ms/step - loss: 0.1505 - acc: 0.9536 - val_loss: 0.1556 - val_acc: 0.9540\n",
      "Epoch 4/100\n",
      "160/160 [==============================] - 6s 38ms/step - loss: 0.1441 - acc: 0.9544 - val_loss: 0.1463 - val_acc: 0.9539\n",
      "Epoch 5/100\n",
      "160/160 [==============================] - 6s 38ms/step - loss: 0.1433 - acc: 0.9546 - val_loss: 0.1463 - val_acc: 0.9544\n",
      "Epoch 6/100\n",
      "160/160 [==============================] - 6s 38ms/step - loss: 0.1440 - acc: 0.9546 - val_loss: 0.1444 - val_acc: 0.9549\n",
      "Epoch 7/100\n",
      "160/160 [==============================] - 6s 38ms/step - loss: 0.1435 - acc: 0.9547 - val_loss: 0.1440 - val_acc: 0.9548\n",
      "Epoch 8/100\n",
      "160/160 [==============================] - 6s 38ms/step - loss: 0.1434 - acc: 0.9547 - val_loss: 0.1440 - val_acc: 0.9548\n",
      "Epoch 9/100\n",
      "160/160 [==============================] - 6s 38ms/step - loss: 0.1433 - acc: 0.9549 - val_loss: 0.1439 - val_acc: 0.9548\n",
      "Epoch 10/100\n",
      "160/160 [==============================] - 6s 39ms/step - loss: 0.1430 - acc: 0.9548 - val_loss: 0.1438 - val_acc: 0.9547\n",
      "Epoch 11/100\n",
      "160/160 [==============================] - 6s 38ms/step - loss: 0.1430 - acc: 0.9549 - val_loss: 0.1436 - val_acc: 0.9549\n",
      "Epoch 12/100\n",
      "160/160 [==============================] - 6s 38ms/step - loss: 0.1431 - acc: 0.9549 - val_loss: 0.1436 - val_acc: 0.9549\n",
      "Epoch 13/100\n",
      "160/160 [==============================] - 6s 38ms/step - loss: 0.1431 - acc: 0.9550 - val_loss: 0.1431 - val_acc: 0.9550\n",
      "Epoch 14/100\n",
      "160/160 [==============================] - 6s 39ms/step - loss: 0.1430 - acc: 0.9550 - val_loss: 0.1431 - val_acc: 0.9550\n",
      "Epoch 15/100\n",
      "160/160 [==============================] - 6s 38ms/step - loss: 0.1430 - acc: 0.9550 - val_loss: 0.1430 - val_acc: 0.9550\n",
      "Epoch 16/100\n",
      "160/160 [==============================] - 6s 39ms/step - loss: 0.1429 - acc: 0.9550 - val_loss: 0.1431 - val_acc: 0.9549\n",
      "Time taken in (hh:mm:ss.ms) is 0:02:20.182319\n"
     ]
    }
   ],
   "source": [
    "start = datetime.now()\n",
    "random.seed(seed)\n",
    "np.random.seed(seed)\n",
    "tf.random.set_seed(seed)\n",
    "initializer = tf.keras.initializers.RandomNormal(mean=0.0, stddev=0.05, seed=seed)\n",
    "np.random.RandomState(seed)\n",
    "tf.compat.v1.set_random_seed(seed)\n",
    "\n",
    "ids_train = np.arange(X_train.shape[0])\n",
    "history = run_experiment(gnn_model, ids_train, y_train.astype(np.uint8))\n",
    "end = datetime.now()\n",
    "gnn_model.reset_states()\n",
    "print(f\"Time taken in (hh:mm:ss.ms) is {end - start}\")"
   ]
  },
  {
   "cell_type": "code",
   "execution_count": 92,
   "id": "c7703d9b",
   "metadata": {
    "colab": {
     "base_uri": "https://localhost:8080/"
    },
    "executionInfo": {
     "elapsed": 13,
     "status": "ok",
     "timestamp": 1691711186202,
     "user": {
      "displayName": "STEFANO SURACI",
      "userId": "01042017575376796343"
     },
     "user_tz": 180
    },
    "id": "c7703d9b",
    "outputId": "76f77cd1-2a65-47f8-c033-5b3a645a25f0"
   },
   "outputs": [
    {
     "name": "stdout",
     "output_type": "stream",
     "text": [
      "tf.Tensor(\n",
      "[[0.00712002]\n",
      " [0.00339796]\n",
      " [0.09862292]\n",
      " [0.06100578]\n",
      " [0.10737719]], shape=(5, 1), dtype=float32)\n"
     ]
    }
   ],
   "source": [
    "print(gnn_model(np.arange(0,5)))"
   ]
  },
  {
   "cell_type": "code",
   "execution_count": 93,
   "id": "9a9bbbd4",
   "metadata": {
    "colab": {
     "base_uri": "https://localhost:8080/",
     "height": 317
    },
    "executionInfo": {
     "elapsed": 9,
     "status": "ok",
     "timestamp": 1691711186977,
     "user": {
      "displayName": "STEFANO SURACI",
      "userId": "01042017575376796343"
     },
     "user_tz": 180
    },
    "id": "9a9bbbd4",
    "outputId": "a6a50549-e390-4b21-cc8e-62c8152c5247"
   },
   "outputs": [
    {
     "data": {
      "image/png": "[encoded data removed]",
      "text/plain": [
       "<Figure size 1500x500 with 2 Axes>"
      ]
     },
     "metadata": {},
     "output_type": "display_data"
    }
   ],
   "source": [
    "display_learning_curves(history)"
   ]
  },
  {
   "cell_type": "code",
   "execution_count": 94,
   "id": "9b222821",
   "metadata": {
    "executionInfo": {
     "elapsed": 6,
     "status": "ok",
     "timestamp": 1691711186978,
     "user": {
      "displayName": "STEFANO SURACI",
      "userId": "01042017575376796343"
     },
     "user_tz": 180
    },
    "id": "9b222821"
   },
   "outputs": [],
   "source": [
    "def clf_eval(y_pred, y_val):\n",
    "  acc = 100*accuracy_score(y_pred, y_val)\n",
    "  print('Acc Rede: {}'.format(acc))\n",
    "  acc_obs = 100*accuracy_score(y_pred.flatten(), y_val.flatten())\n",
    "  print('Acc Obs: {}'.format(acc_obs))\n",
    "  #acurácia somente para conjunto que tenha 2 outliers\n",
    "  aux=sum(np.transpose(y_val))==2\n",
    "  acc2=100*accuracy_score(y_val[aux,:], y_pred[aux,:])\n",
    "  print('Accuracy 2 out: {}'.format(acc2))\n",
    "  #acurácia somente para conjunto que tenha 1 outliers\n",
    "  aux=sum(np.transpose(y_val))==1\n",
    "  acc1=100*accuracy_score(y_val[aux,:], y_pred[aux,:])\n",
    "  print('Accuracy 1 out: {}'.format(acc1))\n",
    "  #acurácia somente para conjunto que tenha 0 outliers\n",
    "  aux=sum(np.transpose(y_val))==0\n",
    "  acc0=100*accuracy_score(y_val[aux,:], y_pred[aux,:])\n",
    "  print('Accuracy 0 out: {}'.format(acc0))\n",
    "  acc = [acc, acc1, acc2]\n",
    "  return acc"
   ]
  },
  {
   "cell_type": "code",
   "execution_count": 95,
   "id": "196cbf02",
   "metadata": {
    "executionInfo": {
     "elapsed": 5,
     "status": "ok",
     "timestamp": 1691711186978,
     "user": {
      "displayName": "STEFANO SURACI",
      "userId": "01042017575376796343"
     },
     "user_tz": 180
    },
    "id": "196cbf02"
   },
   "outputs": [],
   "source": [
    "def fp_control(FP, probs, y_test):\n",
    "\n",
    "  aux = y_Ev.shape[0]\n",
    "  probsEv = np.reshape(probs_Ev, (aux, m), order='C')\n",
    "  maxs = np.sort(np.amax(probsEv, axis=1))\n",
    "  position = int((1-FP)*maxs.shape[0])\n",
    "  threshold = maxs[position]\n",
    "  print(threshold, np.count_nonzero(maxs == threshold), maxs.shape)\n",
    "  aux = int(y_test.shape[0]/m)\n",
    "  probs = np.reshape(probs, (aux, m), order='C')\n",
    "\n",
    "  preds = (np.where(probs[:] > threshold, 1, 0))\n",
    "  del (probs,maxs)\n",
    "  print(\"--com VC|FP=5%\")\n",
    "  acc =clf_eval(preds.reshape(int(y_test.shape[0]/m),m),y_test.reshape(int(y_test.shape[0]/m),m))\n",
    "  return acc"
   ]
  },
  {
   "cell_type": "code",
   "execution_count": 96,
   "id": "X2R4qKilwCxz",
   "metadata": {
    "executionInfo": {
     "elapsed": 5,
     "status": "ok",
     "timestamp": 1691711186978,
     "user": {
      "displayName": "STEFANO SURACI",
      "userId": "01042017575376796343"
     },
     "user_tz": 180
    },
    "id": "X2R4qKilwCxz"
   },
   "outputs": [],
   "source": [
    "#### PREDICOES COM CJ TRAIN\n",
    "probs_all1 = gnn_model(ids_train)\n",
    "probs_train_36 = np.concatenate((probs_all1[0:int(3*m*qtd_graphs*VS),:],\n",
    "                                 probs_all1[int(5*m*qtd_graphs*VS):int(5*m*qtd_graphs*VS+3*m*qtd_graphs*(1-VS)),:]\n",
    "                                 ),axis=0)\n",
    "probs_train_69 = np.concatenate((probs_all1[int(3*m*qtd_graphs*VS):int(5*m*qtd_graphs*VS),:],\n",
    "                                 probs_all1[int(5*m*qtd_graphs*VS+3*m*qtd_graphs*(1-VS)):int(5*m*qtd_graphs*VS+5*m*qtd_graphs*(1-VS)),:]\n",
    "                                 ),axis=0)\n",
    "y_train_36 = np.concatenate((y_train[0:int(3*m*qtd_graphs*VS),:],\n",
    "                          y_train[int(5*m*qtd_graphs*VS):int(5*m*qtd_graphs*VS+3*m*qtd_graphs*(1-VS)),:],\n",
    "                          ),axis=0)\n",
    "y_train_69 = np.concatenate((y_train[int(3*m*qtd_graphs*VS):int(5*m*qtd_graphs*VS),:],\n",
    "                          y_train[int(5*m*qtd_graphs*VS+3*m*qtd_graphs*(1-VS)):int(5*m*qtd_graphs*VS+5*m*qtd_graphs*(1-VS)),:],\n",
    "                          ),axis=0)"
   ]
  },
  {
   "cell_type": "code",
   "execution_count": 97,
   "id": "0a83e372",
   "metadata": {
    "executionInfo": {
     "elapsed": 455,
     "status": "ok",
     "timestamp": 1691711187429,
     "user": {
      "displayName": "STEFANO SURACI",
      "userId": "01042017575376796343"
     },
     "user_tz": 180
    },
    "id": "0a83e372"
   },
   "outputs": [],
   "source": [
    "#### PREDICOES COM CJ VAL\n",
    "gnn_model.node_features = X_val\n",
    "gnn_model.edges = list_edges_MC[0:150000*list_edges.shape[0]].T\n",
    "gnn_model.edge_weights = tf.ones(shape=gnn_model.edges.shape[1])\n",
    "graph_info = (gnn_model.node_features, gnn_model.edges, gnn_model.edge_weights)\n",
    "ids_val = np.arange(X_val.shape[0])\n",
    "probs_all = gnn_model(ids_val)\n",
    "probs_val_36 = probs_all[0:int(X_val.shape[0]/2),:]\n",
    "probs_val_69 = probs_all[int(X_val.shape[0]/2):int(X_val.shape[0]),:]"
   ]
  },
  {
   "cell_type": "code",
   "execution_count": 98,
   "id": "81bbf213",
   "metadata": {
    "executionInfo": {
     "elapsed": 4,
     "status": "ok",
     "timestamp": 1691711187430,
     "user": {
      "displayName": "STEFANO SURACI",
      "userId": "01042017575376796343"
     },
     "user_tz": 180
    },
    "id": "81bbf213"
   },
   "outputs": [],
   "source": [
    "#### PREDICOES COM CJ Ev\n",
    "gnn_model.node_features = X_Ev\n",
    "gnn_model.edges = list_edges_MC[0:200000*list_edges.shape[0]].T\n",
    "gnn_model.edge_weights = tf.ones(shape=gnn_model.edges.shape[1])\n",
    "graph_info = (gnn_model.node_features, gnn_model.edges, gnn_model.edge_weights)\n",
    "ids_Ev = np.arange(X_Ev.shape[0])\n",
    "probs_Ev = gnn_model(ids_Ev)"
   ]
  },
  {
   "cell_type": "code",
   "execution_count": 99,
   "id": "e2916e7a",
   "metadata": {
    "colab": {
     "base_uri": "https://localhost:8080/"
    },
    "executionInfo": {
     "elapsed": 1372,
     "status": "ok",
     "timestamp": 1691711188799,
     "user": {
      "displayName": "STEFANO SURACI",
      "userId": "01042017575376796343"
     },
     "user_tz": 180
    },
    "id": "e2916e7a",
    "outputId": "87c93303-cb68-453d-fb96-4f38011a2cbe"
   },
   "outputs": [
    {
     "name": "stdout",
     "output_type": "stream",
     "text": [
      "-----Cj Train 3-6s:\n",
      "0.5283968 1 (200000,)\n",
      "--com VC|FP=5%\n",
      "Acc Rede: 47.13466666666667\n",
      "Acc Obs: 95.23183333333334\n",
      "Accuracy 2 out: 10.96\n",
      "Accuracy 1 out: 32.604\n",
      "Accuracy 0 out: 97.84\n",
      "-----Cj Train 6-9s:\n",
      "0.5283968 1 (200000,)\n",
      "--com VC|FP=5%\n",
      "Acc Rede: 59.648\n",
      "Acc Obs: 95.799875\n",
      "Accuracy 2 out: 46.204\n",
      "Accuracy 1 out: 73.092\n",
      "Accuracy 0 out: nan\n",
      "__MSR__36_69_5%__Train: 40.715\n",
      "0.001\n",
      "---------xxxxxx----------\n",
      "-----Cj Validacao 3-6s:\n",
      "0.5283968 1 (200000,)\n",
      "--com VC|FP=5%\n",
      "Acc Rede: 46.51466666666666\n"
     ]
    },
    {
     "name": "stderr",
     "output_type": "stream",
     "text": [
      "/usr/local/lib/python3.10/dist-packages/numpy/lib/function_base.py:518: RuntimeWarning: Mean of empty slice.\n",
      "  avg = a.mean(axis, **keepdims_kw)\n",
      "/usr/local/lib/python3.10/dist-packages/numpy/core/_methods.py:190: RuntimeWarning: invalid value encountered in double_scalars\n",
      "  ret = ret.dtype.type(ret / rcount)\n"
     ]
    },
    {
     "name": "stdout",
     "output_type": "stream",
     "text": [
      "Acc Obs: 95.139\n",
      "Accuracy 2 out: 10.100000000000001\n",
      "Accuracy 1 out: 34.68\n",
      "Accuracy 0 out: 94.76400000000001\n",
      "-----Cj Validacao 6-9s:\n",
      "0.5283968 1 (200000,)\n",
      "--com VC|FP=5%\n",
      "Acc Rede: 71.29466666666666\n",
      "Acc Obs: 97.0945\n",
      "Accuracy 2 out: 44.788\n",
      "Accuracy 1 out: 74.332\n",
      "Accuracy 0 out: 94.76400000000001\n",
      "__MSR__36_69_5%__Validacao: 40.974999999999994\n",
      "0.001\n"
     ]
    }
   ],
   "source": [
    "print(\"-----Cj Train 3-6s:\")\n",
    "acc36 = fp_control(0.05, probs_train_36, y_train_36)\n",
    "print(\"-----Cj Train 6-9s:\")\n",
    "acc69 = fp_control(0.05, probs_train_69, y_train_69)\n",
    "print(\"__MSR__36_69_5%__Train:\", (acc36[1] + acc36[2] + acc69[1] + acc69[2])/4)\n",
    "print(learning_rate)\n",
    "print(\"---------xxxxxx----------\")\n",
    "print(\"-----Cj Validacao 3-6s:\")\n",
    "acc36 = fp_control(0.05, probs_val_36, y_val36)\n",
    "print(\"-----Cj Validacao 6-9s:\")\n",
    "acc69 = fp_control(0.05, probs_val_69, y_val69)\n",
    "print(\"__MSR__36_69_5%__Validacao:\", (acc36[1] + acc36[2] + acc69[1] + acc69[2])/4)\n",
    "print(learning_rate)"
   ]
  }
 ],
 "metadata": {
  "accelerator": "GPU",
  "colab": {
   "gpuType": "A100",
   "provenance": [
    {
     "file_id": "19bEDDiewmG08bcdh9vtfgS9iOsDqbY03",
     "timestamp": 1688994611998
    },
    {
     "file_id": "1cQNnp2NPgrpkcwBDXacQFUMX8nVnsSIw",
     "timestamp": 1652121008731
    }
   ]
  },
  "kernelspec": {
   "display_name": "Python 3",
   "language": "python",
   "name": "python3"
  },
  "language_info": {
   "codemirror_mode": {
    "name": "ipython",
    "version": 3
   },
   "file_extension": ".py",
   "mimetype": "text/x-python",
   "name": "python",
   "nbconvert_exporter": "python",
   "pygments_lexer": "ipython3",
   "version": "3.8.8"
  }
 },
 "nbformat": 4,
 "nbformat_minor": 5
}
