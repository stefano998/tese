{
 "cells": [
  {
   "cell_type": "code",
   "execution_count": 1,
   "metadata": {
    "executionInfo": {
     "elapsed": 868,
     "status": "ok",
     "timestamp": 1644402110156,
     "user": {
      "displayName": "STEFANO SURACI",
      "photoUrl": "https://lh3.googleusercontent.com/a-/AOh14GgC533QUIHseDK5wQz8bRh7oz3nBqHt6hSA-hDaQQ=s64",
      "userId": "01042017575376796343"
     },
     "user_tz": 180
    },
    "id": "-TOeN0FXMr_0"
   },
   "outputs": [],
   "source": [
    "#importa bibliotecas\n",
    "import numpy as np\n",
    "from sklearn import preprocessing\n",
    "import scipy.stats\n",
    "\n",
    "from sklearn.model_selection import train_test_split\n",
    "from sklearn.neural_network import MLPClassifier\n",
    "from sklearn.metrics import accuracy_score\n",
    "from sklearn.decomposition import PCA"
   ]
  },
  {
   "cell_type": "code",
   "execution_count": 2,
   "metadata": {
    "executionInfo": {
     "elapsed": 298,
     "status": "ok",
     "timestamp": 1644402115325,
     "user": {
      "displayName": "STEFANO SURACI",
      "photoUrl": "https://lh3.googleusercontent.com/a-/AOh14GgC533QUIHseDK5wQz8bRh7oz3nBqHt6hSA-hDaQQ=s64",
      "userId": "01042017575376796343"
     },
     "user_tz": 180
    },
    "id": "3MwPl8GzpkMR"
   },
   "outputs": [],
   "source": [
    "#preencher nome da rede geodesica analisada\n",
    "#alias opcoes = {'gemael147','ghi355gps','nive20obs','gnssrbc21','ghiniv255','kleincorr'}\n",
    "alias='ghi355gps'\n",
    "aux_filename_36_train=\"_0-2outs_3-6s_50000itr_train\"\n",
    "aux_filename_69_train=\"_0-2outs_6-9s_50000itr_train\"\n",
    "aux_filename_36=\"_0out200000_1-2outs_3-6s_50000itr\"\n",
    "aux_filename_69=\"_0out200000_1-2outs_6-9s_50000itr\""
   ]
  },
  {
   "cell_type": "code",
   "execution_count": 3,
   "metadata": {
    "colab": {
     "base_uri": "https://localhost:8080/"
    },
    "executionInfo": {
     "elapsed": 32805,
     "status": "ok",
     "timestamp": 1644402169170,
     "user": {
      "displayName": "STEFANO SURACI",
      "photoUrl": "https://lh3.googleusercontent.com/a-/AOh14GgC533QUIHseDK5wQz8bRh7oz3nBqHt6hSA-hDaQQ=s64",
      "userId": "01042017575376796343"
     },
     "user_tz": 180
    },
    "id": "AVK36yOXNSyj",
    "outputId": "e63341cc-7805-4c8d-bb35-324777edc96d"
   },
   "outputs": [],
   "source": [
    "#importa arquivos para treinamento do metaclassificador\n",
    "caminho=\"C:/Users/Patricia/Desktop/IP3new/00.treino_rna/\"+alias+\"_\" \n",
    "\n",
    "wAllEL1_pi_sigma_v_36_train = np.loadtxt(caminho+\"wAllEL1_pi_sigma_v\"+aux_filename_36_train)\n",
    "ypredEL1_pi_sigma_v_36_train = np.loadtxt(caminho+\"ypredEL1_pi_sigma_v\"+aux_filename_36_train)\n",
    "wAllELInf_pp_sig_obs_36_train = np.loadtxt(caminho+\"wAllELInf_pp_sig_obs\"+aux_filename_36_train)\n",
    "ypredELInf_pp_sig_obs_36_train = np.loadtxt(caminho+\"ypredELInf_pp_sig_obs\"+aux_filename_36_train)\n",
    "wAllELInf_pi_sig_obs_36_train = np.loadtxt(caminho+\"wAllELInf_pi_sig_obs\"+aux_filename_36_train)\n",
    "ypredELInf_pi_sig_obs_36_train = np.loadtxt(caminho+\"ypredELInf_pi_sig_obs\"+aux_filename_36_train)\n",
    "wAllIDS_pp_36_train = np.loadtxt(caminho+\"wAllIDS_pp\"+aux_filename_36_train)\n",
    "ypredIDS_pp_36_train = np.loadtxt(caminho+\"ypredIDS_pp\"+aux_filename_36_train)\n",
    "wAllSLRTMO_pp_36_train = np.loadtxt(caminho+\"wAllSLRTMO_pp\"+aux_filename_36_train)\n",
    "ypredSLRTMO_pp_36_train = np.loadtxt(caminho+\"ypredSLRTMO_pp\"+aux_filename_36_train)\n",
    "outs_positions_36_train = np.loadtxt(caminho+\"outs_positions\"+aux_filename_36_train)\n",
    "\n",
    "wAllEL1_pi_sigma_v_69_train = np.loadtxt(caminho+\"wAllEL1_pi_sigma_v\"+aux_filename_69_train)\n",
    "ypredEL1_pi_sigma_v_69_train = np.loadtxt(caminho+\"ypredEL1_pi_sigma_v\"+aux_filename_69_train)\n",
    "wAllELInf_pp_sig_obs_69_train = np.loadtxt(caminho+\"wAllELInf_pp_sig_obs\"+aux_filename_69_train)\n",
    "ypredELInf_pp_sig_obs_69_train = np.loadtxt(caminho+\"ypredELInf_pp_sig_obs\"+aux_filename_69_train)\n",
    "wAllELInf_pi_sig_obs_69_train = np.loadtxt(caminho+\"wAllELInf_pi_sig_obs\"+aux_filename_69_train)\n",
    "ypredELInf_pi_sig_obs_69_train = np.loadtxt(caminho+\"ypredELInf_pi_sig_obs\"+aux_filename_69_train)\n",
    "wAllIDS_pp_69_train = np.loadtxt(caminho+\"wAllIDS_pp\"+aux_filename_69_train)\n",
    "ypredIDS_pp_69_train = np.loadtxt(caminho+\"ypredIDS_pp\"+aux_filename_69_train)\n",
    "wAllSLRTMO_pp_69_train = np.loadtxt(caminho+\"wAllSLRTMO_pp\"+aux_filename_69_train)\n",
    "ypredSLRTMO_pp_69_train = np.loadtxt(caminho+\"ypredSLRTMO_pp\"+aux_filename_69_train)\n",
    "outs_positions_69_train = np.loadtxt(caminho+\"outs_positions\"+aux_filename_69_train)"
   ]
  },
  {
   "cell_type": "code",
   "execution_count": 4,
   "metadata": {},
   "outputs": [],
   "source": [
    "#importa arquivos para testes do metaclassificador\n",
    "caminho=\"C:/Users/Patricia/Desktop/IP3new/\"+alias+\"_\" \n",
    "\n",
    "wAllEL1_pi_sigma_v_36 = np.loadtxt(caminho+\"wAllEL1_pi_sigma_v\"+aux_filename_36)\n",
    "ypredEL1_pi_sigma_v_36 = np.loadtxt(caminho+\"ypredEL1_pi_sigma_v\"+aux_filename_36)\n",
    "wAllELInf_pp_sig_obs_36 = np.loadtxt(caminho+\"wAllELInf_pp_sig_obs\"+aux_filename_36)\n",
    "ypredELInf_pp_sig_obs_36 = np.loadtxt(caminho+\"ypredELInf_pp_sig_obs\"+aux_filename_36)\n",
    "wAllELInf_pi_sig_obs_36 = np.loadtxt(caminho+\"wAllELInf_pi_sig_obs\"+aux_filename_36)\n",
    "ypredELInf_pi_sig_obs_36 = np.loadtxt(caminho+\"ypredELInf_pi_sig_obs\"+aux_filename_36)\n",
    "wAllIDS_pp_36 = np.loadtxt(caminho+\"wAllIDS_pp\"+aux_filename_36)\n",
    "ypredIDS_pp_36 = np.loadtxt(caminho+\"ypredIDS_pp\"+aux_filename_36)\n",
    "wAllSLRTMO_pp_36 = np.loadtxt(caminho+\"wAllSLRTMO_pp\"+aux_filename_36)\n",
    "ypredSLRTMO_pp_36 = np.loadtxt(caminho+\"ypredSLRTMO_pp\"+aux_filename_36)\n",
    "outs_positions_36 = np.loadtxt(caminho+\"outs_positions\"+aux_filename_36)\n",
    "\n",
    "wAllEL1_pi_sigma_v_69 = np.loadtxt(caminho+\"wAllEL1_pi_sigma_v\"+aux_filename_69)\n",
    "ypredEL1_pi_sigma_v_69 = np.loadtxt(caminho+\"ypredEL1_pi_sigma_v\"+aux_filename_69)\n",
    "wAllELInf_pp_sig_obs_69 = np.loadtxt(caminho+\"wAllELInf_pp_sig_obs\"+aux_filename_69)\n",
    "ypredELInf_pp_sig_obs_69 = np.loadtxt(caminho+\"ypredELInf_pp_sig_obs\"+aux_filename_69)\n",
    "wAllELInf_pi_sig_obs_69 = np.loadtxt(caminho+\"wAllELInf_pi_sig_obs\"+aux_filename_69)\n",
    "ypredELInf_pi_sig_obs_69 = np.loadtxt(caminho+\"ypredELInf_pi_sig_obs\"+aux_filename_69)\n",
    "wAllIDS_pp_69 = np.loadtxt(caminho+\"wAllIDS_pp\"+aux_filename_69)\n",
    "ypredIDS_pp_69 = np.loadtxt(caminho+\"ypredIDS_pp\"+aux_filename_69)\n",
    "wAllSLRTMO_pp_69 = np.loadtxt(caminho+\"wAllSLRTMO_pp\"+aux_filename_69)\n",
    "ypredSLRTMO_pp_69 = np.loadtxt(caminho+\"ypredSLRTMO_pp\"+aux_filename_69)\n",
    "outs_positions_69 = np.loadtxt(caminho+\"outs_positions\"+aux_filename_69)"
   ]
  },
  {
   "cell_type": "code",
   "execution_count": 5,
   "metadata": {},
   "outputs": [
    {
     "name": "stdout",
     "output_type": "stream",
     "text": [
      "(180000, 150) (60000, 15) (300000, 15)\n"
     ]
    }
   ],
   "source": [
    "#forma conjuntos de treino, validacao e testes\n",
    "qtd_graphs = 30000 #vai ser isso x6, pois entra 0,1,2 outs, cada um para 36 e 69sigma; \n",
    "#colocar no máx 30,000 (ultimos 20,000 (120,000) serao validacao)\n",
    "\n",
    "\n",
    "#######train\n",
    "aux36_train = (ypredIDS_pp_36_train,wAllIDS_pp_36_train,\n",
    "             ypredEL1_pi_sigma_v_36_train,wAllEL1_pi_sigma_v_36_train,\n",
    "             ypredELInf_pi_sig_obs_36_train,wAllELInf_pi_sig_obs_36_train,ypredELInf_pp_sig_obs_36_train,wAllELInf_pp_sig_obs_36_train,\n",
    "             ypredSLRTMO_pp_36_train,wAllSLRTMO_pp_36_train)########################## tirar redun sfc\n",
    "obs_36_train = np.concatenate(aux36_train,axis=1)\n",
    "label_36_train = outs_positions_36_train\n",
    "\n",
    "aux69_train = (ypredIDS_pp_69_train,wAllIDS_pp_69_train,\n",
    "             ypredEL1_pi_sigma_v_69_train,wAllEL1_pi_sigma_v_69_train,\n",
    "             ypredELInf_pi_sig_obs_69_train,wAllELInf_pi_sig_obs_69_train,ypredELInf_pp_sig_obs_69_train,wAllELInf_pp_sig_obs_69_train,\n",
    "             ypredSLRTMO_pp_69_train,wAllSLRTMO_pp_69_train)########################## tirar redun sfc\n",
    "obs_69_train = np.concatenate(aux69_train,axis=1) \n",
    "label_69_train = outs_positions_69_train\n",
    "\n",
    "#####teste\n",
    "aux36 = (ypredIDS_pp_36,wAllIDS_pp_36,\n",
    "             ypredEL1_pi_sigma_v_36,wAllEL1_pi_sigma_v_36,\n",
    "             ypredELInf_pi_sig_obs_36,wAllELInf_pi_sig_obs_36,ypredELInf_pp_sig_obs_36,wAllELInf_pp_sig_obs_36,\n",
    "             ypredSLRTMO_pp_36,wAllSLRTMO_pp_36)########################## tirar redun sfc\n",
    "X_test36 = np.concatenate(aux36,axis=1)\n",
    "y_test36 = outs_positions_36\n",
    "\n",
    "aux69 = (ypredIDS_pp_69,wAllIDS_pp_69,\n",
    "             ypredEL1_pi_sigma_v_69,wAllEL1_pi_sigma_v_69,\n",
    "             ypredELInf_pi_sig_obs_69,wAllELInf_pi_sig_obs_69,ypredELInf_pp_sig_obs_69,wAllELInf_pp_sig_obs_69,\n",
    "             ypredSLRTMO_pp_69,wAllSLRTMO_pp_69)########################## tirar redun sfc\n",
    "X_test69 = np.concatenate(aux69,axis=1) \n",
    "y_test69 = outs_positions_69\n",
    "\n",
    "\n",
    "prop2out = 1\n",
    "X_train36 = np.concatenate((obs_36_train[0:0+qtd_graphs,:],obs_36_train[50000:50000+qtd_graphs,:],\n",
    "                         obs_36_train[100000:100000+int(qtd_graphs*prop2out),:]),axis=0)\n",
    "y_train36 = np.concatenate((label_36_train[0:0+qtd_graphs,:],label_36_train[50000:50000+qtd_graphs,:],\n",
    "                         label_36_train[100000:100000+int(qtd_graphs*prop2out),:]),axis=0)\n",
    "X_train69 = np.concatenate((obs_69_train[0:0+qtd_graphs,:],obs_69_train[50000:50000+qtd_graphs,:],\n",
    "                         obs_69_train[100000:100000+int(qtd_graphs*prop2out),:]),axis=0)\n",
    "y_train69 = np.concatenate((label_69_train[0:0+qtd_graphs,:],label_69_train[50000:50000+qtd_graphs,:],\n",
    "                         label_69_train[100000:100000+int(qtd_graphs*prop2out),:]),axis=0)\n",
    "X_val36 = np.concatenate((obs_36_train[30000:50000,:],obs_36_train[80000:100000,:],obs_36_train[130000:150000,:]),axis=0)\n",
    "X_val69 = np.concatenate((obs_69_train[30000:50000,:],obs_69_train[80000:100000,:],obs_69_train[130000:150000,:]),axis=0)\n",
    "y_val36 = np.concatenate((label_36_train[30000:50000,:],label_36_train[80000:100000,:],label_36_train[130000:150000,:]),axis=0)\n",
    "y_val69 = np.concatenate((label_69_train[30000:50000,:],label_69_train[80000:100000,:],label_69_train[130000:150000,:]),axis=0)\n",
    "\n",
    "\n",
    "X_train = np.concatenate((X_train36, X_train69),axis=0)\n",
    "y_train = np.concatenate((y_train36, y_train69),axis=0)\n",
    "#X_test = np.concatenate((X_test36, X_test69),axis=0)\n",
    "#y_test = np.concatenate((y_test36, y_test69),axis=0)\n",
    "m = y_test69.shape[1]\n",
    "\n",
    "\n",
    "print(X_train.shape,y_val69.shape,y_test69.shape)"
   ]
  },
  {
   "cell_type": "code",
   "execution_count": 6,
   "metadata": {
    "id": "ydk1eY3IfCG2"
   },
   "outputs": [],
   "source": [
    "#funcao para avaliar desempenho do metaclassificador\n",
    "def clf_eval(y_pred, y_val):\n",
    "  if y_pred.ndim < 2 : ## isso eh apenas para o caso de granularidade nas obs..\n",
    "    aux = int(y_pred.shape[0]/m)\n",
    "    y_pred = np.reshape(y_pred, (aux, m), order='C')\n",
    "    y_val = np.reshape(y_val, (aux, m), order='C')\n",
    "  acc = 100*accuracy_score(y_pred, y_val)\n",
    "  print('Accuracy: {}'.format(acc))\n",
    "  #acurácia somente para conjunto que tenha 2 outliers \n",
    "  aux=sum(np.transpose(y_val))==2\n",
    "  acc2=100*accuracy_score(y_val[aux,:], y_pred[aux,:])\n",
    "  print('Accuracy 2 out: {}'.format(acc2))\n",
    "  #acurácia somente para conjunto que tenha 1 outliers \n",
    "  aux=sum(np.transpose(y_val))==1\n",
    "  acc1=100*accuracy_score(y_val[aux,:], y_pred[aux,:])\n",
    "  print('Accuracy 1 out: {}'.format(acc1))\n",
    "  #acurácia somente para conjunto que tenha 0 outliers \n",
    "  aux=sum(np.transpose(y_val))==0\n",
    "  acc0=100*accuracy_score(y_val[aux,:], y_pred[aux,:])\n",
    "  print('Accuracy 0 out: {}'.format(acc0))\n",
    "  acc = (acc2+acc1)/2\n",
    "  #print('Accuracy: {}'.format(acc))\n",
    "  acc = [acc, acc1, acc2]\n",
    "  return acc"
   ]
  },
  {
   "cell_type": "code",
   "execution_count": 7,
   "metadata": {},
   "outputs": [],
   "source": [
    "#funcao para controle da taxa de falsos positivos do metaclassificador\n",
    "def fp_control(FP, X_test, y_test):\n",
    "\n",
    "  if y_test.ndim < 2 : ## isso eh apenas para o caso de granularidade nas obs..\n",
    "    probs = np.array(clf.predict_proba(X_test))[:,1]\n",
    "    aux = int(y_test.shape[0]/m)\n",
    "    y_test_aux = np.reshape(y_test, (aux, m), order='C')\n",
    "    probs = np.reshape(probs, (aux, m), order='C')\n",
    "    aux=sum(np.transpose(y_test_aux))==0\n",
    "    maxs = np.sort(np.amax(probs[aux,:], axis=1))\n",
    "    position = int((1-FP)*maxs.shape[0])\n",
    "    threshold = maxs[position]\n",
    "\n",
    "  else:\n",
    "    aux=sum(np.transpose(y_test))==0\n",
    "    probs = np.array(clf.predict_proba(X_test[aux,:]))\n",
    "    maxs = np.sort(np.amax(probs, axis=1))\n",
    "    position = int((1-FP)*maxs.shape[0])\n",
    "    threshold = maxs[position]\n",
    "\n",
    "  probs = np.array(clf.predict_proba(X_test))\n",
    "  preds = (np.where(probs[:,:] > threshold, 1, 0))\n",
    "  if y_test.ndim < 2 : ## isso eh apenas para o caso de granularidade nas obs..\n",
    "    preds = preds[:,1]\n",
    "  label = y_test\n",
    "  acc =clf_eval(preds,label)\n",
    "  return acc"
   ]
  },
  {
   "cell_type": "code",
   "execution_count": 8,
   "metadata": {
    "colab": {
     "base_uri": "https://localhost:8080/"
    },
    "executionInfo": {
     "elapsed": 461591,
     "status": "ok",
     "timestamp": 1629813992259,
     "user": {
      "displayName": "STEFANO SURACI",
      "photoUrl": "https://lh3.googleusercontent.com/a-/AOh14GhnmVqpNEHis9iWosmqzo7omWKARyWNXnS7S_PPbA=s64",
      "userId": "01042017575376796343"
     },
     "user_tz": 180
    },
    "id": "YH5tpN2Mx2lT",
    "outputId": "fc6d524e-c484-4d9c-c7bf-594c686b5df0"
   },
   "outputs": [
    {
     "data": {
      "text/html": [
       "<style>#sk-container-id-1 {color: black;background-color: white;}#sk-container-id-1 pre{padding: 0;}#sk-container-id-1 div.sk-toggleable {background-color: white;}#sk-container-id-1 label.sk-toggleable__label {cursor: pointer;display: block;width: 100%;margin-bottom: 0;padding: 0.3em;box-sizing: border-box;text-align: center;}#sk-container-id-1 label.sk-toggleable__label-arrow:before {content: \"▸\";float: left;margin-right: 0.25em;color: #696969;}#sk-container-id-1 label.sk-toggleable__label-arrow:hover:before {color: black;}#sk-container-id-1 div.sk-estimator:hover label.sk-toggleable__label-arrow:before {color: black;}#sk-container-id-1 div.sk-toggleable__content {max-height: 0;max-width: 0;overflow: hidden;text-align: left;background-color: #f0f8ff;}#sk-container-id-1 div.sk-toggleable__content pre {margin: 0.2em;color: black;border-radius: 0.25em;background-color: #f0f8ff;}#sk-container-id-1 input.sk-toggleable__control:checked~div.sk-toggleable__content {max-height: 200px;max-width: 100%;overflow: auto;}#sk-container-id-1 input.sk-toggleable__control:checked~label.sk-toggleable__label-arrow:before {content: \"▾\";}#sk-container-id-1 div.sk-estimator input.sk-toggleable__control:checked~label.sk-toggleable__label {background-color: #d4ebff;}#sk-container-id-1 div.sk-label input.sk-toggleable__control:checked~label.sk-toggleable__label {background-color: #d4ebff;}#sk-container-id-1 input.sk-hidden--visually {border: 0;clip: rect(1px 1px 1px 1px);clip: rect(1px, 1px, 1px, 1px);height: 1px;margin: -1px;overflow: hidden;padding: 0;position: absolute;width: 1px;}#sk-container-id-1 div.sk-estimator {font-family: monospace;background-color: #f0f8ff;border: 1px dotted black;border-radius: 0.25em;box-sizing: border-box;margin-bottom: 0.5em;}#sk-container-id-1 div.sk-estimator:hover {background-color: #d4ebff;}#sk-container-id-1 div.sk-parallel-item::after {content: \"\";width: 100%;border-bottom: 1px solid gray;flex-grow: 1;}#sk-container-id-1 div.sk-label:hover label.sk-toggleable__label {background-color: #d4ebff;}#sk-container-id-1 div.sk-serial::before {content: \"\";position: absolute;border-left: 1px solid gray;box-sizing: border-box;top: 0;bottom: 0;left: 50%;z-index: 0;}#sk-container-id-1 div.sk-serial {display: flex;flex-direction: column;align-items: center;background-color: white;padding-right: 0.2em;padding-left: 0.2em;position: relative;}#sk-container-id-1 div.sk-item {position: relative;z-index: 1;}#sk-container-id-1 div.sk-parallel {display: flex;align-items: stretch;justify-content: center;background-color: white;position: relative;}#sk-container-id-1 div.sk-item::before, #sk-container-id-1 div.sk-parallel-item::before {content: \"\";position: absolute;border-left: 1px solid gray;box-sizing: border-box;top: 0;bottom: 0;left: 50%;z-index: -1;}#sk-container-id-1 div.sk-parallel-item {display: flex;flex-direction: column;z-index: 1;position: relative;background-color: white;}#sk-container-id-1 div.sk-parallel-item:first-child::after {align-self: flex-end;width: 50%;}#sk-container-id-1 div.sk-parallel-item:last-child::after {align-self: flex-start;width: 50%;}#sk-container-id-1 div.sk-parallel-item:only-child::after {width: 0;}#sk-container-id-1 div.sk-dashed-wrapped {border: 1px dashed gray;margin: 0 0.4em 0.5em 0.4em;box-sizing: border-box;padding-bottom: 0.4em;background-color: white;}#sk-container-id-1 div.sk-label label {font-family: monospace;font-weight: bold;display: inline-block;line-height: 1.2em;}#sk-container-id-1 div.sk-label-container {text-align: center;}#sk-container-id-1 div.sk-container {/* jupyter's `normalize.less` sets `[hidden] { display: none; }` but bootstrap.min.css set `[hidden] { display: none !important; }` so we also need the `!important` here to be able to override the default hidden behavior on the sphinx rendered scikit-learn.org. See: https://github.com/scikit-learn/scikit-learn/issues/21755 */display: inline-block !important;position: relative;}#sk-container-id-1 div.sk-text-repr-fallback {display: none;}</style><div id=\"sk-container-id-1\" class=\"sk-top-container\"><div class=\"sk-text-repr-fallback\"><pre>MLPClassifier(hidden_layer_sizes=100, max_iter=800, random_state=51)</pre><b>In a Jupyter environment, please rerun this cell to show the HTML representation or trust the notebook. <br />On GitHub, the HTML representation is unable to render, please try loading this page with nbviewer.org.</b></div><div class=\"sk-container\" hidden><div class=\"sk-item\"><div class=\"sk-estimator sk-toggleable\"><input class=\"sk-toggleable__control sk-hidden--visually\" id=\"sk-estimator-id-1\" type=\"checkbox\" checked><label for=\"sk-estimator-id-1\" class=\"sk-toggleable__label sk-toggleable__label-arrow\">MLPClassifier</label><div class=\"sk-toggleable__content\"><pre>MLPClassifier(hidden_layer_sizes=100, max_iter=800, random_state=51)</pre></div></div></div></div></div>"
      ],
      "text/plain": [
       "MLPClassifier(hidden_layer_sizes=100, max_iter=800, random_state=51)"
      ]
     },
     "execution_count": 8,
     "metadata": {},
     "output_type": "execute_result"
    }
   ],
   "source": [
    "#treinamento do metaclassificador (RNA)\n",
    "clf = MLPClassifier(max_iter=800, hidden_layer_sizes=(100),random_state=51)\n",
    "clf.fit(X_train,y_train)"
   ]
  },
  {
   "cell_type": "code",
   "execution_count": 11,
   "metadata": {
    "scrolled": true
   },
   "outputs": [
    {
     "name": "stdout",
     "output_type": "stream",
     "text": [
      "relu\n",
      "logistic\n",
      "Validacao:\n",
      "Accuracy: 65.52833333333334\n",
      "Accuracy 2 out: 40.81\n",
      "Accuracy 1 out: 60.77\n",
      "Accuracy 0 out: 95.005\n",
      "Accuracy: 88.75999999999999\n",
      "Accuracy 2 out: 81.61\n",
      "Accuracy 1 out: 89.66499999999999\n",
      "Accuracy 0 out: 95.005\n",
      "MSR: 68.21375\n",
      "Teste:\n",
      "Accuracy: 80.30266666666667\n",
      "Accuracy 2 out: 40.992\n",
      "Accuracy 1 out: 60.821999999999996\n",
      "Accuracy 0 out: 95.0005\n",
      "Accuracy: 91.85333333333332\n",
      "Accuracy 2 out: 81.56400000000001\n",
      "Accuracy 1 out: 89.554\n",
      "Accuracy 0 out: 95.0005\n",
      "MSR: 68.233\n"
     ]
    }
   ],
   "source": [
    "#Activation function for the hidden layer(s)\n",
    "print(clf.activation)\n",
    "#Activation function for the last layer\n",
    "print(clf.out_activation_)\n",
    "#com mudança de valor critico para controlar taxa de FP:\n",
    "print(\"Validacao:\") \n",
    "acc36 = fp_control(0.05, X_val36, y_val36) \n",
    "acc69 = fp_control(0.05, X_val69, y_val69) \n",
    "print(\"MSR:\", (acc36[1] + acc36[2] + acc69[1] + acc69[2])/4)\n",
    "print(\"Teste:\") \n",
    "acc36 = fp_control(0.05, X_test36, y_test36) \n",
    "acc69 = fp_control(0.05, X_test69, y_test69)\n",
    "print(\"MSR:\", (acc36[1] + acc36[2] + acc69[1] + acc69[2])/4)"
   ]
  }
 ],
 "metadata": {
  "colab": {
   "collapsed_sections": [],
   "name": "ML_algorithms.ipynb",
   "provenance": [
    {
     "file_id": "1VMxmyV2XEm_Sj6t0ruZPiSyvBLM4jnzj",
     "timestamp": 1621004256149
    },
    {
     "file_id": "1g8LAs0v173u835_42FXf64Fg3RuxI2kc",
     "timestamp": 1619101216960
    },
    {
     "file_id": "1ny4TSxXEqAHmYy41RtdIjSnxZkG5iLFD",
     "timestamp": 1618585173024
    },
    {
     "file_id": "1lsCAZ0GaDCRsZNNnNtWUwer-GC_qvUS9",
     "timestamp": 1617904835454
    },
    {
     "file_id": "1LftA5687P-bZfl7zdgVWE_ri-hZI8qse",
     "timestamp": 1617735461562
    }
   ]
  },
  "kernelspec": {
   "display_name": "Python 3",
   "language": "python",
   "name": "python3"
  },
  "language_info": {
   "codemirror_mode": {
    "name": "ipython",
    "version": 3
   },
   "file_extension": ".py",
   "mimetype": "text/x-python",
   "name": "python",
   "nbconvert_exporter": "python",
   "pygments_lexer": "ipython3",
   "version": "3.8.8"
  }
 },
 "nbformat": 4,
 "nbformat_minor": 1
}
