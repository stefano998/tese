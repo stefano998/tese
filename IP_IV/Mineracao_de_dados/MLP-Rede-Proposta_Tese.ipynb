{
 "cells": [
  {
   "cell_type": "code",
   "execution_count": 1,
   "id": "be615d20",
   "metadata": {
    "colab": {
     "base_uri": "https://localhost:8080/"
    },
    "executionInfo": {
     "elapsed": 8343,
     "status": "ok",
     "timestamp": 1652121200019,
     "user": {
      "displayName": "STEFANO SURACI",
      "userId": "01042017575376796343"
     },
     "user_tz": 180
    },
    "id": "be615d20",
    "outputId": "8edf2c02-5f1b-492a-b52a-ca522ea95fc0"
   },
   "outputs": [],
   "source": [
    "#importa bibliotecas\n",
    "import os\n",
    "import pandas as pd\n",
    "import numpy as np\n",
    "import networkx as nx\n",
    "import matplotlib.pyplot as plt\n",
    "import tensorflow as tf\n",
    "from tensorflow import keras\n",
    "from tensorflow.keras import layers\n",
    "from tensorflow.keras.models import Sequential\n",
    "from tensorflow.keras.layers import Dense\n",
    "from sklearn.model_selection import train_test_split\n",
    "from sklearn.metrics import accuracy_score\n",
    "#print(\"Num GPUs Available: \", len(tf.config.list_physical_devices('GPU')))\n",
    "#tf.config.list_physical_devices('GPU') \n",
    "#print(\"Executing eagerly:\",tf.executing_eagerly())"
   ]
  },
  {
   "cell_type": "code",
   "execution_count": 2,
   "id": "3f3d8027",
   "metadata": {
    "colab": {
     "base_uri": "https://localhost:8080/"
    },
    "executionInfo": {
     "elapsed": 2095,
     "status": "ok",
     "timestamp": 1652121202108,
     "user": {
      "displayName": "STEFANO SURACI",
      "userId": "01042017575376796343"
     },
     "user_tz": 180
    },
    "id": "3f3d8027",
    "outputId": "0b5391b9-8567-48f5-d93c-f5a27bdd9439"
   },
   "outputs": [],
   "source": [
    "#preencher nome da rede geodesica analisada (abaixo os nomes das redes A, B, C, D, E e F, respectivamente)\n",
    "#alias opcoes = {'gemael147','ghi355gps','nive20obs','gnssrbc21','ghiniv255','kleincorr'}\n",
    "alias='gemael147'\n",
    "aux_filename_36_train=\"_0-2outs_3-6s_50000itr_train\"\n",
    "aux_filename_69_train=\"_0-2outs_6-9s_50000itr_train\"\n",
    "aux_filename_36=\"_0out200000_1-2outs_3-6s_50000itr\"\n",
    "aux_filename_69=\"_0out200000_1-2outs_6-9s_50000itr\"\n",
    "\n",
    "#from google.colab import drive\n",
    "#drive.mount('/content/drive')\n",
    "#caminho=\"/content/drive/MyDrive/Colab_data/\"+alias+\"/\"+alias+\"_\""
   ]
  },
  {
   "cell_type": "code",
   "execution_count": 3,
   "id": "c37de329",
   "metadata": {
    "executionInfo": {
     "elapsed": 136310,
     "status": "ok",
     "timestamp": 1652121338414,
     "user": {
      "displayName": "STEFANO SURACI",
      "userId": "01042017575376796343"
     },
     "user_tz": 180
    },
    "id": "c37de329"
   },
   "outputs": [],
   "source": [
    "#importa arquivos para treinamento do metaclassificador\n",
    "caminho=\"C:/Users/Patricia/Desktop/IP3new/00.treino_rna/\"+alias+\"_\" \n",
    "\n",
    "ypred_kmeans_36_train=pd.read_csv(caminho+\"ypredkmeans_3-6s_train.csv\")\n",
    "ypred_kmeans_36_train=ypred_kmeans_36_train.to_numpy()\n",
    "ypred_kmeans_69_train=pd.read_csv(caminho+\"ypredkmeans_6-9s_train.csv\")\n",
    "ypred_kmeans_69_train=ypred_kmeans_69_train.to_numpy()\n",
    "\n",
    "wAllEL1_pi_sigma_v_36_train = np.loadtxt(caminho+\"wAllEL1_pi_sigma_v\"+aux_filename_36_train)\n",
    "ypredEL1_pi_sigma_v_36_train = np.loadtxt(caminho+\"ypredEL1_pi_sigma_v\"+aux_filename_36_train)\n",
    "wAllELInf_pp_sig_obs_36_train = np.loadtxt(caminho+\"wAllELInf_pp_sig_obs\"+aux_filename_36_train)\n",
    "ypredELInf_pp_sig_obs_36_train = np.loadtxt(caminho+\"ypredELInf_pp_sig_obs\"+aux_filename_36_train)\n",
    "wAllELInf_pi_sig_obs_36_train = np.loadtxt(caminho+\"wAllELInf_pi_sig_obs\"+aux_filename_36_train)\n",
    "ypredELInf_pi_sig_obs_36_train = np.loadtxt(caminho+\"ypredELInf_pi_sig_obs\"+aux_filename_36_train)\n",
    "wAllIDS_pp_36_train = np.loadtxt(caminho+\"wAllIDS_pp\"+aux_filename_36_train)\n",
    "ypredIDS_pp_36_train = np.loadtxt(caminho+\"ypredIDS_pp\"+aux_filename_36_train)\n",
    "wAllSLRTMO_pp_36_train = np.loadtxt(caminho+\"wAllSLRTMO_pp\"+aux_filename_36_train)\n",
    "ypredSLRTMO_pp_36_train = np.loadtxt(caminho+\"ypredSLRTMO_pp\"+aux_filename_36_train)\n",
    "outs_positions_36_train = np.loadtxt(caminho+\"outs_positions\"+aux_filename_36_train)\n",
    "\n",
    "wAllEL1_pi_sigma_v_69_train = np.loadtxt(caminho+\"wAllEL1_pi_sigma_v\"+aux_filename_69_train)\n",
    "ypredEL1_pi_sigma_v_69_train = np.loadtxt(caminho+\"ypredEL1_pi_sigma_v\"+aux_filename_69_train)\n",
    "wAllELInf_pp_sig_obs_69_train = np.loadtxt(caminho+\"wAllELInf_pp_sig_obs\"+aux_filename_69_train)\n",
    "ypredELInf_pp_sig_obs_69_train = np.loadtxt(caminho+\"ypredELInf_pp_sig_obs\"+aux_filename_69_train)\n",
    "wAllELInf_pi_sig_obs_69_train = np.loadtxt(caminho+\"wAllELInf_pi_sig_obs\"+aux_filename_69_train)\n",
    "ypredELInf_pi_sig_obs_69_train = np.loadtxt(caminho+\"ypredELInf_pi_sig_obs\"+aux_filename_69_train)\n",
    "wAllIDS_pp_69_train = np.loadtxt(caminho+\"wAllIDS_pp\"+aux_filename_69_train)\n",
    "ypredIDS_pp_69_train = np.loadtxt(caminho+\"ypredIDS_pp\"+aux_filename_69_train)\n",
    "wAllSLRTMO_pp_69_train = np.loadtxt(caminho+\"wAllSLRTMO_pp\"+aux_filename_69_train)\n",
    "ypredSLRTMO_pp_69_train = np.loadtxt(caminho+\"ypredSLRTMO_pp\"+aux_filename_69_train)\n",
    "outs_positions_69_train = np.loadtxt(caminho+\"outs_positions\"+aux_filename_69_train)"
   ]
  },
  {
   "cell_type": "code",
   "execution_count": null,
   "id": "5e84464e",
   "metadata": {},
   "outputs": [],
   "source": [
    "#importa arquivos para testes do metaclassificador\n",
    "caminho=\"C:/Users/Patricia/Desktop/IP3new/\"+alias+\"_\" \n",
    "\n",
    "ypred_kmeans_36=pd.read_csv(caminho+\"ypredkmeans_3-6s.csv\")\n",
    "ypred_kmeans_36=ypred_kmeans_36.to_numpy()\n",
    "ypred_kmeans_69=pd.read_csv(caminho+\"ypredkmeans_6-9s.csv\")\n",
    "ypred_kmeans_69=ypred_kmeans_69.to_numpy()\n",
    "\n",
    "wAllEL1_pi_sigma_v_36 = np.loadtxt(caminho+\"wAllEL1_pi_sigma_v\"+aux_filename_36)\n",
    "ypredEL1_pi_sigma_v_36 = np.loadtxt(caminho+\"ypredEL1_pi_sigma_v\"+aux_filename_36)\n",
    "wAllELInf_pp_sig_obs_36 = np.loadtxt(caminho+\"wAllELInf_pp_sig_obs\"+aux_filename_36)\n",
    "ypredELInf_pp_sig_obs_36 = np.loadtxt(caminho+\"ypredELInf_pp_sig_obs\"+aux_filename_36)\n",
    "wAllELInf_pi_sig_obs_36 = np.loadtxt(caminho+\"wAllELInf_pi_sig_obs\"+aux_filename_36)\n",
    "ypredELInf_pi_sig_obs_36 = np.loadtxt(caminho+\"ypredELInf_pi_sig_obs\"+aux_filename_36)\n",
    "wAllIDS_pp_36 = np.loadtxt(caminho+\"wAllIDS_pp\"+aux_filename_36)\n",
    "ypredIDS_pp_36 = np.loadtxt(caminho+\"ypredIDS_pp\"+aux_filename_36)\n",
    "wAllSLRTMO_pp_36 = np.loadtxt(caminho+\"wAllSLRTMO_pp\"+aux_filename_36)\n",
    "ypredSLRTMO_pp_36 = np.loadtxt(caminho+\"ypredSLRTMO_pp\"+aux_filename_36)\n",
    "outs_positions_36 = np.loadtxt(caminho+\"outs_positions\"+aux_filename_36)\n",
    "\n",
    "wAllEL1_pi_sigma_v_69 = np.loadtxt(caminho+\"wAllEL1_pi_sigma_v\"+aux_filename_69)\n",
    "ypredEL1_pi_sigma_v_69 = np.loadtxt(caminho+\"ypredEL1_pi_sigma_v\"+aux_filename_69)\n",
    "wAllELInf_pp_sig_obs_69 = np.loadtxt(caminho+\"wAllELInf_pp_sig_obs\"+aux_filename_69)\n",
    "ypredELInf_pp_sig_obs_69 = np.loadtxt(caminho+\"ypredELInf_pp_sig_obs\"+aux_filename_69)\n",
    "wAllELInf_pi_sig_obs_69 = np.loadtxt(caminho+\"wAllELInf_pi_sig_obs\"+aux_filename_69)\n",
    "ypredELInf_pi_sig_obs_69 = np.loadtxt(caminho+\"ypredELInf_pi_sig_obs\"+aux_filename_69)\n",
    "wAllIDS_pp_69 = np.loadtxt(caminho+\"wAllIDS_pp\"+aux_filename_69)\n",
    "ypredIDS_pp_69 = np.loadtxt(caminho+\"ypredIDS_pp\"+aux_filename_69)\n",
    "wAllSLRTMO_pp_69 = np.loadtxt(caminho+\"wAllSLRTMO_pp\"+aux_filename_69)\n",
    "ypredSLRTMO_pp_69 = np.loadtxt(caminho+\"ypredSLRTMO_pp\"+aux_filename_69)\n",
    "outs_positions_69 = np.loadtxt(caminho+\"outs_positions\"+aux_filename_69)"
   ]
  },
  {
   "cell_type": "code",
   "execution_count": null,
   "id": "66173246",
   "metadata": {
    "colab": {
     "base_uri": "https://localhost:8080/"
    },
    "executionInfo": {
     "elapsed": 383,
     "status": "ok",
     "timestamp": 1652121338793,
     "user": {
      "displayName": "STEFANO SURACI",
      "userId": "01042017575376796343"
     },
     "user_tz": 180
    },
    "id": "66173246",
    "outputId": "60f1f792-f77f-4ed4-c3dd-dab21b7a1aaf"
   },
   "outputs": [],
   "source": [
    "#forma conjuntos de treino, validacao e testes\n",
    "qtd_graphs = 30000 \n",
    "#qtd de MC cenários de redes geodésicas para cada qtd de outliers e intervalo de magnitude para o treinamento\n",
    "#a qtd de exemplos de treinamento vai ser isso x5, pois entra 0, 1 e 2 outs (sendo 1 e 2 outs para 3-6 e 6-9sigma); \n",
    "\n",
    "\n",
    "#######train\n",
    "aux36_train = (ypredIDS_pp_36_train,wAllIDS_pp_36_train,\n",
    "             ypredEL1_pi_sigma_v_36_train,wAllEL1_pi_sigma_v_36_train,\n",
    "             ypredELInf_pi_sig_obs_36_train,wAllELInf_pi_sig_obs_36_train,ypredELInf_pp_sig_obs_36_train,wAllELInf_pp_sig_obs_36_train,\n",
    "             ypredSLRTMO_pp_36_train,wAllSLRTMO_pp_36_train,ypred_kmeans_36_train)########################## tirar redun sfc\n",
    "obs_36_train = np.concatenate(aux36_train,axis=1)\n",
    "label_36_train = outs_positions_36_train\n",
    "\n",
    "aux69_train = (ypredIDS_pp_69_train,wAllIDS_pp_69_train,\n",
    "             ypredEL1_pi_sigma_v_69_train,wAllEL1_pi_sigma_v_69_train,\n",
    "             ypredELInf_pi_sig_obs_69_train,wAllELInf_pi_sig_obs_69_train,ypredELInf_pp_sig_obs_69_train,wAllELInf_pp_sig_obs_69_train,\n",
    "             ypredSLRTMO_pp_69_train,wAllSLRTMO_pp_69_train,ypred_kmeans_69_train)########################## tirar redun sfc\n",
    "obs_69_train = np.concatenate(aux69_train,axis=1) \n",
    "label_69_train = outs_positions_69_train\n",
    "\n",
    "#####teste\n",
    "aux36 = (ypredIDS_pp_36,wAllIDS_pp_36,\n",
    "             ypredEL1_pi_sigma_v_36,wAllEL1_pi_sigma_v_36,\n",
    "             ypredELInf_pi_sig_obs_36,wAllELInf_pi_sig_obs_36,ypredELInf_pp_sig_obs_36,wAllELInf_pp_sig_obs_36,\n",
    "             ypredSLRTMO_pp_36,wAllSLRTMO_pp_36,ypred_kmeans_36)########################## tirar redun sfc\n",
    "X_test36 = np.concatenate(aux36,axis=1)\n",
    "y_test36 = outs_positions_36\n",
    "\n",
    "aux69 = (ypredIDS_pp_69,wAllIDS_pp_69,\n",
    "             ypredEL1_pi_sigma_v_69,wAllEL1_pi_sigma_v_69,\n",
    "             ypredELInf_pi_sig_obs_69,wAllELInf_pi_sig_obs_69,ypredELInf_pp_sig_obs_69,wAllELInf_pp_sig_obs_69,\n",
    "             ypredSLRTMO_pp_69,wAllSLRTMO_pp_69,ypred_kmeans_69)########################## tirar redun sfc\n",
    "X_test69 = np.concatenate(aux69,axis=1) \n",
    "y_test69 = outs_positions_69\n",
    "\n",
    "\n",
    "\n",
    "prop2out = 1\n",
    "X_train36 = np.concatenate((obs_36_train[0:0+qtd_graphs,:],obs_36_train[50000:50000+qtd_graphs,:],\n",
    "                         obs_36_train[100000:100000+int(qtd_graphs*prop2out),:]),axis=0)\n",
    "y_train36 = np.concatenate((label_36_train[0:0+qtd_graphs,:],label_36_train[50000:50000+qtd_graphs,:],\n",
    "                         label_36_train[100000:100000+int(qtd_graphs*prop2out),:]),axis=0)\n",
    "X_train69 = np.concatenate((obs_69_train[50000:50000+qtd_graphs,:],\n",
    "                         obs_69_train[100000:100000+int(qtd_graphs*prop2out),:]),axis=0)\n",
    "y_train69 = np.concatenate((label_69_train[50000:50000+qtd_graphs,:],\n",
    "                         label_69_train[100000:100000+int(qtd_graphs*prop2out),:]),axis=0)\n",
    "X_val36 = np.concatenate((obs_36_train[30000:50000,:],obs_36_train[80000:100000,:],obs_36_train[130000:150000,:]),axis=0)\n",
    "X_val69 = np.concatenate((obs_69_train[30000:50000,:],obs_69_train[80000:100000,:],obs_69_train[130000:150000,:]),axis=0)\n",
    "y_val36 = np.concatenate((label_36_train[30000:50000,:],label_36_train[80000:100000,:],label_36_train[130000:150000,:]),axis=0)\n",
    "y_val69 = np.concatenate((label_69_train[30000:50000,:],label_69_train[80000:100000,:],label_69_train[130000:150000,:]),axis=0)\n",
    "\n",
    "\n",
    "X_train = np.concatenate((X_train36, X_train69),axis=0)\n",
    "y_train = np.concatenate((y_train36, y_train69),axis=0)\n",
    "X_val = np.concatenate((X_val36, X_val69),axis=0)\n",
    "y_val = np.concatenate((y_val36, y_val69),axis=0)\n",
    "#X_test = np.concatenate((X_test36, X_test69),axis=0)\n",
    "#y_test = np.concatenate((y_test36, y_test69),axis=0)\n",
    "\n",
    "print(X_train.shape,y_val.shape,X_test36.shape,y_test36.shape)"
   ]
  },
  {
   "cell_type": "code",
   "execution_count": null,
   "id": "c11b96ea",
   "metadata": {
    "executionInfo": {
     "elapsed": 249,
     "status": "ok",
     "timestamp": 1652123151086,
     "user": {
      "displayName": "STEFANO SURACI",
      "userId": "01042017575376796343"
     },
     "user_tz": 180
    },
    "id": "c11b96ea"
   },
   "outputs": [],
   "source": [
    "#funcao para avaliar desempenho do metaclassificador\n",
    "def clf_eval(y_pred, y_val):\n",
    "  acc = 100*accuracy_score(y_pred, y_val)\n",
    "  print('Accuracy: {}'.format(acc))\n",
    "  #acurácia somente para conjunto que tenha 2 outliers \n",
    "  aux=sum(np.transpose(y_val))==2\n",
    "  acc2=100*accuracy_score(y_val[aux,:], y_pred[aux,:])\n",
    "  print('Accuracy 2 out: {}'.format(acc2))\n",
    "  #acurácia somente para conjunto que tenha 1 outliers \n",
    "  aux=sum(np.transpose(y_val))==1\n",
    "  acc1=100*accuracy_score(y_val[aux,:], y_pred[aux,:])\n",
    "  print('Accuracy 1 out: {}'.format(acc1))\n",
    "  #acurácia somente para conjunto que tenha 0 outliers \n",
    "  aux=sum(np.transpose(y_val))==0\n",
    "  acc0=100*accuracy_score(y_val[aux,:], y_pred[aux,:])\n",
    "  print('Accuracy 0 out: {}'.format(acc0))\n",
    "  return [acc1, acc2]"
   ]
  },
  {
   "cell_type": "code",
   "execution_count": null,
   "id": "512c463c",
   "metadata": {
    "executionInfo": {
     "elapsed": 212,
     "status": "ok",
     "timestamp": 1652122265734,
     "user": {
      "displayName": "STEFANO SURACI",
      "userId": "01042017575376796343"
     },
     "user_tz": 180
    },
    "id": "512c463c"
   },
   "outputs": [],
   "source": [
    "#funcao para controle da taxa de falsos positivos do metaclassificador\n",
    "def fp_control(model,FP, X_test, y_test):\n",
    "\n",
    "  if y_test.ndim < 2 : ## isso eh apenas para o caso de granularidade nas obs..\n",
    "    probs = np.array(model.predict(X_test))[:,1]\n",
    "    aux = int(y_test.shape[0]/m)\n",
    "    y_test_aux = np.reshape(y_test, (aux, m), order='C')\n",
    "    probs = np.reshape(probs, (aux, m), order='C')\n",
    "    aux=sum(np.transpose(y_test_aux))==0\n",
    "    maxs = np.sort(np.amax(probs[aux,:], axis=1))\n",
    "    position = int((1-FP)*maxs.shape[0])\n",
    "    threshold = maxs[position]\n",
    "\n",
    "  else:\n",
    "    aux=sum(np.transpose(y_test))==0\n",
    "    probs = np.array(model.predict(X_test[aux,:]))\n",
    "    maxs = np.sort(np.amax(probs, axis=1))\n",
    "    position = int((1-FP)*maxs.shape[0])\n",
    "    threshold = maxs[position]\n",
    "\n",
    "  probs = np.array(model.predict(X_test))\n",
    "  preds = (np.where(probs[:,:] > threshold, 1, 0))\n",
    "  if y_test.ndim < 2 : ## isso eh apenas para o caso de granularidade nas obs..\n",
    "    preds = preds[:,1]\n",
    "  label = y_test\n",
    "  acc =clf_eval(preds,label)\n",
    "  return acc"
   ]
  },
  {
   "cell_type": "code",
   "execution_count": null,
   "id": "2f23b92f",
   "metadata": {
    "executionInfo": {
     "elapsed": 6,
     "status": "ok",
     "timestamp": 1652121524419,
     "user": {
      "displayName": "STEFANO SURACI",
      "userId": "01042017575376796343"
     },
     "user_tz": 180
    },
    "id": "2f23b92f"
   },
   "outputs": [],
   "source": [
    "#keras MLP \n",
    "from keras.models import Sequential\n",
    "from keras.layers import Dense\n",
    "\n",
    "hidden1 = int(X_train.shape[1]*(2/3))\n",
    "hidden2 = int(X_train.shape[1]*(1/3))\n",
    "\n",
    "# Create an early stopping callback.\n",
    "early_stopping = keras.callbacks.EarlyStopping(monitor=\"val_loss\", min_delta=0.0001,patience=10, restore_best_weights=True)\n",
    "\n",
    "# define the keras model\n",
    "tf.random.set_seed(1234) \n",
    "#dropout_rate = 0.1\n",
    "model = Sequential()\n",
    "model.add(Dense(hidden1, input_dim=X_train.shape[1], activation='relu'))\n",
    "model.add(tf.keras.layers.BatchNormalization())\n",
    "#model.add(tf.keras.layers.Dropout(dropout_rate))\n",
    "model.add(Dense(hidden2, activation='relu'))\n",
    "model.add(Dense(units=y_train.shape[1], activation='sigmoid'))   #sigmoid\n",
    "\n",
    "# compile the keras model\n",
    "model.compile(loss='binary_crossentropy', optimizer='adam')\n",
    "model.summary()\n",
    "\n",
    "# fit the keras model on the dataset\n",
    "model.fit(X_train, y_train, epochs=200, batch_size=200,#int(X_train.shape[0]/40),\n",
    "          verbose=1,callbacks=[early_stopping],validation_data=(X_val,y_val))#validation_split=0.1)"
   ]
  },
  {
   "cell_type": "code",
   "execution_count": null,
   "id": "2e2a1591",
   "metadata": {
    "colab": {
     "base_uri": "https://localhost:8080/",
     "height": 450
    },
    "executionInfo": {
     "elapsed": 636,
     "status": "error",
     "timestamp": 1652123157614,
     "user": {
      "displayName": "STEFANO SURACI",
      "userId": "01042017575376796343"
     },
     "user_tz": 180
    },
    "id": "2e2a1591",
    "outputId": "f2a12274-6df4-4fca-fcee-e60c37964b5e",
    "scrolled": true
   },
   "outputs": [],
   "source": [
    "#com mudança de valor critico para controlar taxa de FP:\n",
    "print(\"Cj de Validacao:\") \n",
    "acc36 = fp_control(model, 0.05, X_val36, y_val36)\n",
    "acc69 = fp_control(model, 0.05, X_val69, y_val69)\n",
    "print(\"MSR:\", (acc36[0] + acc36[1] + acc69[0] + acc69[1])/4)\n",
    "print(\"Cj de Teste:\") \n",
    "acc36 = fp_control(model, 0.05, X_test36, y_test36)\n",
    "acc69 = fp_control(model, 0.05, X_test69, y_test69)\n",
    "print(\"MSR:\", (acc36[0] + acc36[1] + acc69[0] + acc69[1])/4)"
   ]
  },
  {
   "cell_type": "code",
   "execution_count": null,
   "id": "302ced6a",
   "metadata": {},
   "outputs": [],
   "source": [
    "#import shap\n",
    "\n",
    "#explainer = shap.DeepExplainer(model, shap.sample(X_train, 100,random_state=1)) #específico para redes neurais\n",
    "#pode ser treino grande, ele vai pegar n exemplos.. 100 é bom, 1000 é o limite\n",
    "\n",
    "#shap_values = explainer.shap_values(X_val69[0:10])# conjuntos na forma de dataframe\n",
    "#aqui é o crítico, o tamanho deste cj\n",
    "#tentar usar o Deep, met derivadas?\n",
    "\n",
    "#shap.summary_plot(shap_values, X_val69[0:10])\n",
    "#jah sai na ordem de importancia"
   ]
  }
 ],
 "metadata": {
  "accelerator": "GPU",
  "colab": {
   "name": "keras_baseline.ipynb",
   "provenance": []
  },
  "kernelspec": {
   "display_name": "Python 3",
   "language": "python",
   "name": "python3"
  },
  "language_info": {
   "codemirror_mode": {
    "name": "ipython",
    "version": 3
   },
   "file_extension": ".py",
   "mimetype": "text/x-python",
   "name": "python",
   "nbconvert_exporter": "python",
   "pygments_lexer": "ipython3",
   "version": "3.8.8"
  }
 },
 "nbformat": 4,
 "nbformat_minor": 5
}
