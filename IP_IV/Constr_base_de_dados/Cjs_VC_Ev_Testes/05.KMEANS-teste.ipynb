{
 "cells": [
  {
   "cell_type": "code",
   "execution_count": 1,
   "metadata": {
    "executionInfo": {
     "elapsed": 868,
     "status": "ok",
     "timestamp": 1644402110156,
     "user": {
      "displayName": "STEFANO SURACI",
      "photoUrl": "https://lh3.googleusercontent.com/a-/AOh14GgC533QUIHseDK5wQz8bRh7oz3nBqHt6hSA-hDaQQ=s64",
      "userId": "01042017575376796343"
     },
     "user_tz": 180
    },
    "id": "-TOeN0FXMr_0"
   },
   "outputs": [],
   "source": [
    "import numpy as np\n",
    "from sklearn import preprocessing\n",
    "import scipy.stats\n",
    "\n",
    "from sklearn.metrics import accuracy_score\n",
    "from collections import Counter\n",
    "from sklearn.cluster import KMeans"
   ]
  },
  {
   "cell_type": "code",
   "execution_count": 2,
   "metadata": {
    "executionInfo": {
     "elapsed": 298,
     "status": "ok",
     "timestamp": 1644402115325,
     "user": {
      "displayName": "STEFANO SURACI",
      "photoUrl": "https://lh3.googleusercontent.com/a-/AOh14GgC533QUIHseDK5wQz8bRh7oz3nBqHt6hSA-hDaQQ=s64",
      "userId": "01042017575376796343"
     },
     "user_tz": 180
    },
    "id": "3MwPl8GzpkMR"
   },
   "outputs": [],
   "source": [
    "#preencher nome da rede geodesica analisada (abaixo os nomes das redes A, B, C, D, E e F, respectivamente)\n",
    "#alias opcoes = {'gemael147','ghi355gps','nive20obs','gnssrbc21','ghiniv255','kleincorr'}\n",
    "alias='gemael147'\n",
    "aux_filename_36_train=\"_0-2outs_3-6s_50000itr_train\"\n",
    "aux_filename_69_train=\"_0-2outs_6-9s_50000itr_train\"\n",
    "aux_filename_36=\"_0out200000_1-2outs_3-6s_50000itr\"\n",
    "aux_filename_69=\"_0out200000_1-2outs_6-9s_50000itr\"\n",
    "aux_filename_915=\"_0-2outs_9-15s_10000itr\"\n",
    "aux_filename_36_3out=\"_0-3outs_3-6s_10000itr\"\n",
    "aux_filename_69_3out=\"_0-3outs_6-9s_10000itr\""
   ]
  },
  {
   "cell_type": "code",
   "execution_count": 3,
   "metadata": {
    "colab": {
     "base_uri": "https://localhost:8080/"
    },
    "executionInfo": {
     "elapsed": 32805,
     "status": "ok",
     "timestamp": 1644402169170,
     "user": {
      "displayName": "STEFANO SURACI",
      "photoUrl": "https://lh3.googleusercontent.com/a-/AOh14GgC533QUIHseDK5wQz8bRh7oz3nBqHt6hSA-hDaQQ=s64",
      "userId": "01042017575376796343"
     },
     "user_tz": 180
    },
    "id": "AVK36yOXNSyj",
    "outputId": "e63341cc-7805-4c8d-bb35-324777edc96d"
   },
   "outputs": [],
   "source": [
    "#importa arquivos para treinamento do k-médias\n",
    "caminho=\"C:/Users/Patricia/Desktop/IP3new/00.treino_rna/\"+alias+\"_\" \n",
    "A = np.loadtxt(caminho+\"A\")\n",
    "m = A.shape[0]\n",
    "qtt_exs = m*150000\n",
    "\n",
    "wAllEL1_pi_sigma_v_36_train = np.loadtxt(caminho+\"wAllEL1_pi_sigma_v\"+aux_filename_36_train).reshape(qtt_exs,1)\n",
    "wAllELInf_pp_sig_obs_36_train = np.loadtxt(caminho+\"wAllELInf_pp_sig_obs\"+aux_filename_36_train).reshape(qtt_exs,1)\n",
    "wAllELInf_pi_sig_obs_36_train = np.loadtxt(caminho+\"wAllELInf_pi_sig_obs\"+aux_filename_36_train).reshape(qtt_exs,1)\n",
    "wAllIDS_pp_36_train = np.loadtxt(caminho+\"wAllIDS_pp\"+aux_filename_36_train).reshape(qtt_exs,1)\n",
    "wAllSLRTMO_pp_36_train = np.loadtxt(caminho+\"wAllSLRTMO_pp\"+aux_filename_36_train).reshape(qtt_exs,1)\n",
    "outs_positions_36_train = np.loadtxt(caminho+\"outs_positions\"+aux_filename_36_train).reshape(qtt_exs,1)\n",
    "\n",
    "wAllEL1_pi_sigma_v_69_train = np.loadtxt(caminho+\"wAllEL1_pi_sigma_v\"+aux_filename_69_train).reshape(qtt_exs,1)\n",
    "wAllELInf_pp_sig_obs_69_train = np.loadtxt(caminho+\"wAllELInf_pp_sig_obs\"+aux_filename_69_train).reshape(qtt_exs,1)\n",
    "wAllELInf_pi_sig_obs_69_train = np.loadtxt(caminho+\"wAllELInf_pi_sig_obs\"+aux_filename_69_train).reshape(qtt_exs,1)\n",
    "wAllIDS_pp_69_train = np.loadtxt(caminho+\"wAllIDS_pp\"+aux_filename_69_train).reshape(qtt_exs,1)\n",
    "wAllSLRTMO_pp_69_train = np.loadtxt(caminho+\"wAllSLRTMO_pp\"+aux_filename_69_train).reshape(qtt_exs,1)\n",
    "outs_positions_69_train = np.loadtxt(caminho+\"outs_positions\"+aux_filename_69_train).reshape(qtt_exs,1)"
   ]
  },
  {
   "cell_type": "code",
   "execution_count": 4,
   "metadata": {},
   "outputs": [],
   "source": [
    "#importa arquivos para testes do k-médias\n",
    "caminho=\"C:/Users/Patricia/Desktop/IP3new/\"+alias+\"_\" \n",
    "qtt_exs = m*300000\n",
    "\n",
    "wAllEL1_pi_sigma_v_36 = np.loadtxt(caminho+\"wAllEL1_pi_sigma_v\"+aux_filename_36).reshape(qtt_exs,1)\n",
    "wAllELInf_pp_sig_obs_36 = np.loadtxt(caminho+\"wAllELInf_pp_sig_obs\"+aux_filename_36).reshape(qtt_exs,1)\n",
    "wAllELInf_pi_sig_obs_36 = np.loadtxt(caminho+\"wAllELInf_pi_sig_obs\"+aux_filename_36).reshape(qtt_exs,1)\n",
    "wAllIDS_pp_36 = np.loadtxt(caminho+\"wAllIDS_pp\"+aux_filename_36).reshape(qtt_exs,1)\n",
    "wAllSLRTMO_pp_36 = np.loadtxt(caminho+\"wAllSLRTMO_pp\"+aux_filename_36).reshape(qtt_exs,1)\n",
    "outs_positions_36 = np.loadtxt(caminho+\"outs_positions\"+aux_filename_36).reshape(qtt_exs,1)\n",
    "\n",
    "wAllEL1_pi_sigma_v_69 = np.loadtxt(caminho+\"wAllEL1_pi_sigma_v\"+aux_filename_69).reshape(qtt_exs,1)\n",
    "wAllELInf_pp_sig_obs_69 = np.loadtxt(caminho+\"wAllELInf_pp_sig_obs\"+aux_filename_69).reshape(qtt_exs,1)\n",
    "wAllELInf_pi_sig_obs_69 = np.loadtxt(caminho+\"wAllELInf_pi_sig_obs\"+aux_filename_69).reshape(qtt_exs,1)\n",
    "wAllIDS_pp_69 = np.loadtxt(caminho+\"wAllIDS_pp\"+aux_filename_69).reshape(qtt_exs,1)\n",
    "wAllSLRTMO_pp_69 = np.loadtxt(caminho+\"wAllSLRTMO_pp\"+aux_filename_69).reshape(qtt_exs,1)\n",
    "outs_positions_69 = np.loadtxt(caminho+\"outs_positions\"+aux_filename_69).reshape(qtt_exs,1)"
   ]
  },
  {
   "cell_type": "code",
   "execution_count": 5,
   "metadata": {},
   "outputs": [
    {
     "name": "stdout",
     "output_type": "stream",
     "text": [
      "(2400000, 5) (1920000,)\n"
     ]
    }
   ],
   "source": [
    "#forma conjuntos de treino, validacao e testes\n",
    "qtd_graphs = 30000 \n",
    "#qtd de MC cenários de redes geodésicas para cada qtd de outliers e intervalo de magnitude para o treinamento\n",
    "#a qtd de exemplos de treinamento vai ser isso x5, pois entra 0, 1 e 2 outs (sendo 1 e 2 outs para 3-6 e 6-9sigma); \n",
    "\n",
    "#######train\n",
    "aux36_train = (wAllIDS_pp_36_train,\n",
    "             wAllEL1_pi_sigma_v_36_train,\n",
    "             wAllELInf_pi_sig_obs_36_train,wAllELInf_pp_sig_obs_36_train,\n",
    "             wAllSLRTMO_pp_36_train)########################## tirar redun sfc\n",
    "obs_36_train = np.concatenate(aux36_train,axis=1)\n",
    "label_36_train = outs_positions_36_train\n",
    "\n",
    "aux69_train = (wAllIDS_pp_69_train,\n",
    "             wAllEL1_pi_sigma_v_69_train,\n",
    "             wAllELInf_pi_sig_obs_69_train,wAllELInf_pp_sig_obs_69_train,\n",
    "             wAllSLRTMO_pp_69_train)########################## tirar redun sfc\n",
    "obs_69_train = np.concatenate(aux69_train,axis=1) \n",
    "label_69_train = outs_positions_69_train\n",
    "\n",
    "#####teste\n",
    "aux36 = (wAllIDS_pp_36,\n",
    "             wAllEL1_pi_sigma_v_36,\n",
    "             wAllELInf_pi_sig_obs_36,wAllELInf_pp_sig_obs_36,\n",
    "             wAllSLRTMO_pp_36)########################## tirar redun sfc\n",
    "X_test36 = np.concatenate(aux36,axis=1)\n",
    "y_test36 = outs_positions_36.flatten('C')\n",
    "\n",
    "aux69 = (wAllIDS_pp_69,\n",
    "             wAllEL1_pi_sigma_v_69,\n",
    "             wAllELInf_pi_sig_obs_69,wAllELInf_pp_sig_obs_69,\n",
    "             wAllSLRTMO_pp_69)########################## tirar redun sfc\n",
    "X_test69 = np.concatenate(aux69,axis=1) \n",
    "y_test69 = outs_positions_69.flatten('C')\n",
    "\n",
    "              \n",
    "prop2out = 1\n",
    "X_train36 = np.concatenate((obs_36_train[0:0+m*qtd_graphs,:],obs_36_train[m*50000:m*50000+m*qtd_graphs,:],\n",
    "                         obs_36_train[m*100000:m*100000+int(m*qtd_graphs*prop2out),:]),axis=0)\n",
    "y_train36 = np.concatenate((label_36_train[0:0+m*qtd_graphs,:],label_36_train[m*50000:m*50000+m*qtd_graphs,:],\n",
    "                         label_36_train[m*100000:m*100000+int(m*qtd_graphs*prop2out),:]),axis=0)\n",
    "X_train69 = np.concatenate((obs_69_train[m*50000:m*50000+m*qtd_graphs,:],\n",
    "                         obs_69_train[m*100000:m*100000+int(m*qtd_graphs*prop2out),:]),axis=0)\n",
    "y_train69 = np.concatenate((label_69_train[m*50000:m*50000+m*qtd_graphs,:],\n",
    "                         label_69_train[m*100000:m*100000+int(m*qtd_graphs*prop2out),:]),axis=0)\n",
    "X_val36 = np.concatenate((obs_36_train[m*30000:m*50000,:],obs_36_train[m*80000:m*100000,:],obs_36_train[m*130000:m*150000,:]),axis=0)\n",
    "X_val69 = np.concatenate((obs_69_train[m*30000:m*50000,:],obs_69_train[m*80000:m*100000,:],obs_69_train[m*130000:m*150000,:]),axis=0)\n",
    "y_val36 = np.concatenate((label_36_train[m*30000:m*50000,:],label_36_train[m*80000:m*100000,:],label_36_train[m*130000:m*150000,:]),axis=0).flatten('C')\n",
    "y_val69 = np.concatenate((label_69_train[m*30000:m*50000,:],label_69_train[m*80000:m*100000,:],label_69_train[m*130000:m*150000,:]),axis=0).flatten('C')\n",
    "\n",
    "X_train = np.concatenate((X_train36, X_train69),axis=0)\n",
    "y_train = np.concatenate((y_train36, y_train69),axis=0).flatten('C')\n",
    "X_val = np.concatenate((X_val36, X_val69),axis=0)\n",
    "y_val = np.concatenate((y_val36, y_val69),axis=0).flatten('C')\n",
    "\n",
    "\n",
    "print(X_train.shape,y_val.shape)"
   ]
  },
  {
   "cell_type": "code",
   "execution_count": 6,
   "metadata": {
    "id": "ydk1eY3IfCG2"
   },
   "outputs": [],
   "source": [
    "def clf_eval(y_pred, y_val):\n",
    "  if y_pred.ndim < 2 : ## isso eh apenas para o caso de granularidade nas obs..\n",
    "    aux = int(y_pred.shape[0]/m)\n",
    "    y_pred = np.reshape(y_pred, (aux, m), order='C')\n",
    "    y_val = np.reshape(y_val, (aux, m), order='C')\n",
    "  acc = 100*accuracy_score(y_pred, y_val)\n",
    "  print('Accuracy: {}'.format(acc))\n",
    "  #acurácia somente para conjunto que tenha 3 outliers \n",
    "  aux=sum(np.transpose(y_val))==3\n",
    "  if np.any(aux):\n",
    "      acc3=100*accuracy_score(y_val[aux,:], y_pred[aux,:])\n",
    "      print('Accuracy 3 out: {}'.format(acc3))\n",
    "      acc2 = float(\"nan\")\n",
    "      acc1 = float(\"nan\")\n",
    "  #acurácia somente para conjunto que tenha 2 outliers \n",
    "  aux=sum(np.transpose(y_val))==2\n",
    "  if np.any(aux):\n",
    "      acc2=100*accuracy_score(y_val[aux,:], y_pred[aux,:])\n",
    "      print('Accuracy 2 out: {}'.format(acc2))\n",
    "  #acurácia somente para conjunto que tenha 1 outliers \n",
    "  aux=sum(np.transpose(y_val))==1\n",
    "  if np.any(aux):\n",
    "      acc1=100*accuracy_score(y_val[aux,:], y_pred[aux,:])\n",
    "      print('Accuracy 1 out: {}'.format(acc1))\n",
    "  #acurácia somente para conjunto que tenha 0 outliers \n",
    "  aux=sum(np.transpose(y_val))==0\n",
    "  acc0=100*accuracy_score(y_val[aux,:], y_pred[aux,:])\n",
    "  print('Accuracy 0 out: {}'.format(acc0))\n",
    "  acc = (acc2+acc1+acc0)/3\n",
    "  print('MSR: {}'.format(acc))\n",
    "  acc = [acc, acc1, acc2]\n",
    "  return acc"
   ]
  },
  {
   "cell_type": "code",
   "execution_count": 7,
   "metadata": {},
   "outputs": [],
   "source": [
    "def unsupervised_eval(config_kmeans,y_pred, y, n):\n",
    "    c1 = Counter(y_pred)\n",
    "    c1np = np.array(list(c1.items()))\n",
    "    c1p = [(i, c1[i] / len(y_pred) * 100.0) for i, count in c1.most_common()]\n",
    "    print(c1p)\n",
    "    \n",
    "#fazer que maior cluster seja predicao \"0\", sfc\n",
    "    if c1np[0,0] != 0:\n",
    "        aux=y_pred==c1np[0,0]\n",
    "        y_pred[aux] = 1000\n",
    "        aux=y_pred==0\n",
    "        y_pred[aux] = c1np[0,0]\n",
    "        aux=y_pred==1000\n",
    "        y_pred[aux] = 0\n",
    "\n",
    "    c1 = Counter(y_pred)\n",
    "    c1p = [(i, c1[i] / len(y_pred) * 100.0) for i, count in c1.most_common()]\n",
    "    print(c1p)\n",
    "    #c2 = Counter(y)\n",
    "    #c2p = [(i, c2[i] / len(y) * 100.0) for i, count in c2.most_common()]\n",
    "    #print(c2p)\n",
    "\n",
    "#juntar clusters   \n",
    "    if config_kmeans != \"2\":  #se fosse 2 - maior cluster: não outlier/menor cluster: outlier.\n",
    "        print(\"ok\")\n",
    "        if config_kmeans == \"3a\": #maior cluster: não outlier/ 2º maior cluster e menor cluster: outlier\n",
    "           aux=y_pred==2\n",
    "           y_pred[aux] = 1 \n",
    "        if config_kmeans == \"3b\": #maior e 2º maior clusters: não outlier/ menor cluster: outlier\n",
    "           aux=y_pred==1\n",
    "           y_pred[aux] = 0\n",
    "           aux=y_pred==2\n",
    "           y_pred[aux] = 1 \n",
    "        if config_kmeans == \"3c\": #maior e menor clusters: não outlier/ 2º maior cluster: outlier\n",
    "           aux=y_pred==2\n",
    "           y_pred[aux] = 0 \n",
    "\n",
    "    c1 = Counter(y_pred)\n",
    "    c1p = [(i, c1[i] / len(y_pred) * 100.0) for i, count in c1.most_common()]\n",
    "    print(c1p)\n",
    "\n",
    "    acc = 100*accuracy_score(y_pred, y)\n",
    "    print (acc)\n",
    "    clf_eval(y_pred, y)"
   ]
  },
  {
   "cell_type": "code",
   "execution_count": 8,
   "metadata": {},
   "outputs": [
    {
     "data": {
      "text/html": [
       "<style>#sk-container-id-1 {color: black;background-color: white;}#sk-container-id-1 pre{padding: 0;}#sk-container-id-1 div.sk-toggleable {background-color: white;}#sk-container-id-1 label.sk-toggleable__label {cursor: pointer;display: block;width: 100%;margin-bottom: 0;padding: 0.3em;box-sizing: border-box;text-align: center;}#sk-container-id-1 label.sk-toggleable__label-arrow:before {content: \"▸\";float: left;margin-right: 0.25em;color: #696969;}#sk-container-id-1 label.sk-toggleable__label-arrow:hover:before {color: black;}#sk-container-id-1 div.sk-estimator:hover label.sk-toggleable__label-arrow:before {color: black;}#sk-container-id-1 div.sk-toggleable__content {max-height: 0;max-width: 0;overflow: hidden;text-align: left;background-color: #f0f8ff;}#sk-container-id-1 div.sk-toggleable__content pre {margin: 0.2em;color: black;border-radius: 0.25em;background-color: #f0f8ff;}#sk-container-id-1 input.sk-toggleable__control:checked~div.sk-toggleable__content {max-height: 200px;max-width: 100%;overflow: auto;}#sk-container-id-1 input.sk-toggleable__control:checked~label.sk-toggleable__label-arrow:before {content: \"▾\";}#sk-container-id-1 div.sk-estimator input.sk-toggleable__control:checked~label.sk-toggleable__label {background-color: #d4ebff;}#sk-container-id-1 div.sk-label input.sk-toggleable__control:checked~label.sk-toggleable__label {background-color: #d4ebff;}#sk-container-id-1 input.sk-hidden--visually {border: 0;clip: rect(1px 1px 1px 1px);clip: rect(1px, 1px, 1px, 1px);height: 1px;margin: -1px;overflow: hidden;padding: 0;position: absolute;width: 1px;}#sk-container-id-1 div.sk-estimator {font-family: monospace;background-color: #f0f8ff;border: 1px dotted black;border-radius: 0.25em;box-sizing: border-box;margin-bottom: 0.5em;}#sk-container-id-1 div.sk-estimator:hover {background-color: #d4ebff;}#sk-container-id-1 div.sk-parallel-item::after {content: \"\";width: 100%;border-bottom: 1px solid gray;flex-grow: 1;}#sk-container-id-1 div.sk-label:hover label.sk-toggleable__label {background-color: #d4ebff;}#sk-container-id-1 div.sk-serial::before {content: \"\";position: absolute;border-left: 1px solid gray;box-sizing: border-box;top: 0;bottom: 0;left: 50%;z-index: 0;}#sk-container-id-1 div.sk-serial {display: flex;flex-direction: column;align-items: center;background-color: white;padding-right: 0.2em;padding-left: 0.2em;position: relative;}#sk-container-id-1 div.sk-item {position: relative;z-index: 1;}#sk-container-id-1 div.sk-parallel {display: flex;align-items: stretch;justify-content: center;background-color: white;position: relative;}#sk-container-id-1 div.sk-item::before, #sk-container-id-1 div.sk-parallel-item::before {content: \"\";position: absolute;border-left: 1px solid gray;box-sizing: border-box;top: 0;bottom: 0;left: 50%;z-index: -1;}#sk-container-id-1 div.sk-parallel-item {display: flex;flex-direction: column;z-index: 1;position: relative;background-color: white;}#sk-container-id-1 div.sk-parallel-item:first-child::after {align-self: flex-end;width: 50%;}#sk-container-id-1 div.sk-parallel-item:last-child::after {align-self: flex-start;width: 50%;}#sk-container-id-1 div.sk-parallel-item:only-child::after {width: 0;}#sk-container-id-1 div.sk-dashed-wrapped {border: 1px dashed gray;margin: 0 0.4em 0.5em 0.4em;box-sizing: border-box;padding-bottom: 0.4em;background-color: white;}#sk-container-id-1 div.sk-label label {font-family: monospace;font-weight: bold;display: inline-block;line-height: 1.2em;}#sk-container-id-1 div.sk-label-container {text-align: center;}#sk-container-id-1 div.sk-container {/* jupyter's `normalize.less` sets `[hidden] { display: none; }` but bootstrap.min.css set `[hidden] { display: none !important; }` so we also need the `!important` here to be able to override the default hidden behavior on the sphinx rendered scikit-learn.org. See: https://github.com/scikit-learn/scikit-learn/issues/21755 */display: inline-block !important;position: relative;}#sk-container-id-1 div.sk-text-repr-fallback {display: none;}</style><div id=\"sk-container-id-1\" class=\"sk-top-container\"><div class=\"sk-text-repr-fallback\"><pre>KMeans(n_clusters=2, random_state=42)</pre><b>In a Jupyter environment, please rerun this cell to show the HTML representation or trust the notebook. <br />On GitHub, the HTML representation is unable to render, please try loading this page with nbviewer.org.</b></div><div class=\"sk-container\" hidden><div class=\"sk-item\"><div class=\"sk-estimator sk-toggleable\"><input class=\"sk-toggleable__control sk-hidden--visually\" id=\"sk-estimator-id-1\" type=\"checkbox\" checked><label for=\"sk-estimator-id-1\" class=\"sk-toggleable__label sk-toggleable__label-arrow\">KMeans</label><div class=\"sk-toggleable__content\"><pre>KMeans(n_clusters=2, random_state=42)</pre></div></div></div></div></div>"
      ],
      "text/plain": [
       "KMeans(n_clusters=2, random_state=42)"
      ]
     },
     "execution_count": 8,
     "metadata": {},
     "output_type": "execute_result"
    }
   ],
   "source": [
    "#K_MEANS COM 2 CLUSTERS\n",
    "n_clusters=2 \n",
    "kmeans=KMeans(n_clusters,random_state=42)\n",
    "kmeans.fit(X_train)"
   ]
  },
  {
   "cell_type": "code",
   "execution_count": 9,
   "metadata": {},
   "outputs": [
    {
     "name": "stdout",
     "output_type": "stream",
     "text": [
      "CJ VALIDACAO:\n",
      "3-9sigma:\n",
      "[(1, 93.85145833333334), (0, 6.148541666666667)]\n",
      "[(0, 93.85145833333334), (1, 6.148541666666667)]\n",
      "[(0, 93.85145833333334), (1, 6.148541666666667)]\n",
      "93.28729166666668\n",
      "Accuracy: 37.622499999999995\n",
      "Accuracy 2 out: 1.7975\n",
      "Accuracy 1 out: 11.275\n",
      "Accuracy 0 out: 99.795\n",
      "MSR: 37.6225\n"
     ]
    }
   ],
   "source": [
    "#kmedias-2\n",
    "config_kmeans = \"2\"\n",
    "print(\"CJ VALIDACAO:\") \n",
    "print(\"3-9sigma:\") \n",
    "y_pred_kmeans_val = kmeans.predict(X_val)\n",
    "unsupervised_eval(config_kmeans,y_pred_kmeans_val, y_val, n_clusters)"
   ]
  },
  {
   "cell_type": "code",
   "execution_count": 10,
   "metadata": {},
   "outputs": [],
   "source": [
    "# daqui em diante eh para salvar as predições com k=2 (melhor desempenho) para usar na metaclassificação \n",
    "save = 1"
   ]
  },
  {
   "cell_type": "code",
   "execution_count": 11,
   "metadata": {},
   "outputs": [
    {
     "name": "stdout",
     "output_type": "stream",
     "text": [
      "----------CJ TESTE:\n",
      "3-6sigma:\n",
      "[(1, 98.6498125), (0, 1.3501875)]\n",
      "[(0, 98.6498125), (1, 1.3501875)]\n",
      "[(0, 98.6498125), (1, 1.3501875)]\n",
      "96.9788125\n",
      "Accuracy: 68.25233333333334\n",
      "Accuracy 2 out: 1.902\n",
      "Accuracy 1 out: 8.352\n",
      "Accuracy 0 out: 99.815\n",
      "MSR: 36.68966666666667\n",
      "6-9sigma:\n",
      "[(1, 95.20572916666666), (0, 4.794270833333333)]\n",
      "[(0, 95.20572916666666), (1, 4.794270833333333)]\n",
      "[(0, 95.20572916666666), (1, 4.794270833333333)]\n",
      "96.29989583333334\n",
      "Accuracy: 69.27833333333334\n",
      "Accuracy 2 out: 1.856\n",
      "Accuracy 1 out: 14.554\n",
      "Accuracy 0 out: 99.815\n",
      "MSR: 38.74166666666667\n"
     ]
    }
   ],
   "source": [
    "print(\"----------CJ TESTE:\") \n",
    "print(\"3-6sigma:\") \n",
    "y_pred_kmeans36 = kmeans.predict(X_test36)\n",
    "unsupervised_eval(config_kmeans,y_pred_kmeans36, y_test36, n_clusters)\n",
    "print(\"6-9sigma:\") \n",
    "y_pred_kmeans69 = kmeans.predict(X_test69)\n",
    "unsupervised_eval(config_kmeans,y_pred_kmeans69, y_test69, n_clusters)\n",
    "\n",
    "if save==1: \n",
    "  caminho=\"C:/Users/Patricia/Desktop/IP3new/\"+alias+\"_\"\n",
    "  aux = int(y_pred_kmeans36.shape[0]/m)\n",
    "  y_pred_kmeans36 = np.reshape(y_pred_kmeans36, (aux, m), order='C')\n",
    "  y_pred_kmeans36 = np.concatenate((np.arange(m).reshape(1,m),y_pred_kmeans36)).astype(int)\n",
    "  y_pred_kmeans69 = np.reshape(y_pred_kmeans69, (aux, m), order='C')\n",
    "  y_pred_kmeans69 = np.concatenate((np.arange(m).reshape(1,m),y_pred_kmeans69)).astype(int)\n",
    "  np.savetxt(caminho+'ypredkmeans'+'_3-6s'+'.csv', y_pred_kmeans36,delimiter=',',fmt='%i')\n",
    "  np.savetxt(caminho+'ypredkmeans'+'_6-9s'+'.csv', y_pred_kmeans69,delimiter=',',fmt='%i')"
   ]
  }
 ],
 "metadata": {
  "colab": {
   "collapsed_sections": [],
   "name": "ML_algorithms.ipynb",
   "provenance": [
    {
     "file_id": "1VMxmyV2XEm_Sj6t0ruZPiSyvBLM4jnzj",
     "timestamp": 1621004256149
    },
    {
     "file_id": "1g8LAs0v173u835_42FXf64Fg3RuxI2kc",
     "timestamp": 1619101216960
    },
    {
     "file_id": "1ny4TSxXEqAHmYy41RtdIjSnxZkG5iLFD",
     "timestamp": 1618585173024
    },
    {
     "file_id": "1lsCAZ0GaDCRsZNNnNtWUwer-GC_qvUS9",
     "timestamp": 1617904835454
    },
    {
     "file_id": "1LftA5687P-bZfl7zdgVWE_ri-hZI8qse",
     "timestamp": 1617735461562
    }
   ]
  },
  "kernelspec": {
   "display_name": "Python 3",
   "language": "python",
   "name": "python3"
  },
  "language_info": {
   "codemirror_mode": {
    "name": "ipython",
    "version": 3
   },
   "file_extension": ".py",
   "mimetype": "text/x-python",
   "name": "python",
   "nbconvert_exporter": "python",
   "pygments_lexer": "ipython3",
   "version": "3.8.8"
  }
 },
 "nbformat": 4,
 "nbformat_minor": 1
}
